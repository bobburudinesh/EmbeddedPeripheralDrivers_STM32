{
  "nbformat": 4,
  "nbformat_minor": 0,
  "metadata": {
    "colab": {
      "provenance": [],
      "collapsed_sections": [
        "ibSRyE_2kzBL",
        "DXOjbZOakzBL",
        "Y9Zf8RM9kzBL",
        "ipPJDHubkzBM",
        "9-nfuN8YkzBM",
        "plqDtRxykzBM",
        "1U8GvYvzkzBN",
        "OFo4dB1XkzBP"
      ],
      "authorship_tag": "ABX9TyNLQrYVAh4Pbvt9lhz5pKIC",
      "include_colab_link": true
    },
    "kernelspec": {
      "name": "python3",
      "display_name": "Python 3"
    },
    "language_info": {
      "name": "python"
    }
  },
  "cells": [
    {
      "cell_type": "markdown",
      "metadata": {
        "id": "view-in-github",
        "colab_type": "text"
      },
      "source": [
        "<a href=\"https://colab.research.google.com/github/bobburudinesh/Embedded_STM32/blob/master/Reinforcement_Learning1.ipynb\" target=\"_parent\"><img src=\"https://colab.research.google.com/assets/colab-badge.svg\" alt=\"Open In Colab\"/></a>"
      ]
    },
    {
      "cell_type": "code",
      "source": [
        "# @title Setup code (not important) - Run this cell by pressing \"Shift + Enter\"\n",
        "\n",
        "\n",
        "\n",
        "!pip install -qq gym==0.23.0\n",
        "\n",
        "\n",
        "from typing import Tuple, Dict, Optional, Iterable\n",
        "\n",
        "import numpy as np\n",
        "import matplotlib\n",
        "from matplotlib import animation\n",
        "\n",
        "from IPython.display import HTML\n",
        "\n",
        "import gym\n",
        "from gym import spaces\n",
        "from gym.error import DependencyNotInstalled\n",
        "\n",
        "import pygame\n",
        "from pygame import gfxdraw\n",
        "\n",
        "\n",
        "class Maze(gym.Env):\n",
        "\n",
        "    def __init__(self, exploring_starts: bool = False,\n",
        "                 shaped_rewards: bool = False, size: int = 5) -> None:\n",
        "        super().__init__()\n",
        "        self.exploring_starts = exploring_starts\n",
        "        self.shaped_rewards = shaped_rewards\n",
        "        self.state = (size - 1, size - 1)\n",
        "        self.goal = (size - 1, size - 1)\n",
        "        self.maze = self._create_maze(size=size)\n",
        "        self.distances = self._compute_distances(self.goal, self.maze)\n",
        "        self.action_space = spaces.Discrete(n=4)\n",
        "        self.action_space.action_meanings = {0: 'UP', 1: 'RIGHT', 2: 'DOWN', 3: \"LEFT\"}\n",
        "        self.observation_space = spaces.MultiDiscrete([size, size])\n",
        "\n",
        "        self.screen = None\n",
        "        self.agent_transform = None\n",
        "\n",
        "    def step(self, action: int) -> Tuple[Tuple[int, int], float, bool, Dict]:\n",
        "        reward = self.compute_reward(self.state, action)\n",
        "        self.state = self._get_next_state(self.state, action)\n",
        "        done = self.state == self.goal\n",
        "        info = {}\n",
        "        return self.state, reward, done, info\n",
        "\n",
        "    def reset(self) -> Tuple[int, int]:\n",
        "        if self.exploring_starts:\n",
        "            while self.state == self.goal:\n",
        "                self.state = tuple(self.observation_space.sample())\n",
        "        else:\n",
        "            self.state = (0, 0)\n",
        "        return self.state\n",
        "\n",
        "    def render(self, mode: str = 'human') -> Optional[np.ndarray]:\n",
        "        assert mode in ['human', 'rgb_array']\n",
        "\n",
        "        screen_size = 600\n",
        "        scale = screen_size / 5\n",
        "\n",
        "        if self.screen is None:\n",
        "            pygame.init()\n",
        "            self.screen = pygame.Surface((screen_size, screen_size))\n",
        "\n",
        "        surf = pygame.Surface((screen_size, screen_size))\n",
        "        surf.fill((22, 36, 71))\n",
        "\n",
        "\n",
        "        for row in range(5):\n",
        "            for col in range(5):\n",
        "\n",
        "                state = (row, col)\n",
        "                for next_state in [(row + 1, col), (row - 1, col), (row, col + 1), (row, col - 1)]:\n",
        "                    if next_state not in self.maze[state]:\n",
        "\n",
        "                        # Add the geometry of the edges and walls (i.e. the boundaries between\n",
        "                        # adjacent squares that are not connected).\n",
        "                        row_diff, col_diff = np.subtract(next_state, state)\n",
        "                        left = (col + (col_diff > 0)) * scale - 2 * (col_diff != 0)\n",
        "                        right = ((col + 1) - (col_diff < 0)) * scale + 2 * (col_diff != 0)\n",
        "                        top = (5 - (row + (row_diff > 0))) * scale - 2 * (row_diff != 0)\n",
        "                        bottom = (5 - ((row + 1) - (row_diff < 0))) * scale + 2 * (row_diff != 0)\n",
        "\n",
        "                        gfxdraw.filled_polygon(surf, [(left, bottom), (left, top), (right, top), (right, bottom)], (255, 255, 255))\n",
        "\n",
        "        # Add the geometry of the goal square to the viewer.\n",
        "        left, right, top, bottom = scale * 4 + 10, scale * 5 - 10, scale - 10, 10\n",
        "        gfxdraw.filled_polygon(surf, [(left, bottom), (left, top), (right, top), (right, bottom)], (40, 199, 172))\n",
        "\n",
        "        # Add the geometry of the agent to the viewer.\n",
        "        agent_row = int(screen_size - scale * (self.state[0] + .5))\n",
        "        agent_col = int(scale * (self.state[1] + .5))\n",
        "        gfxdraw.filled_circle(surf, agent_col, agent_row, int(scale * .6 / 2), (228, 63, 90))\n",
        "\n",
        "        surf = pygame.transform.flip(surf, False, True)\n",
        "        self.screen.blit(surf, (0, 0))\n",
        "\n",
        "        return np.transpose(\n",
        "                np.array(pygame.surfarray.pixels3d(self.screen)), axes=(1, 0, 2)\n",
        "            )\n",
        "\n",
        "    def close(self) -> None:\n",
        "        if self.screen is not None:\n",
        "            pygame.display.quit()\n",
        "            pygame.quit()\n",
        "            self.screen = None\n",
        "\n",
        "    def compute_reward(self, state: Tuple[int, int], action: int) -> float:\n",
        "        next_state = self._get_next_state(state, action)\n",
        "        if self.shaped_rewards:\n",
        "            return - (self.distances[next_state] / self.distances.max())\n",
        "        return - float(state != self.goal)\n",
        "\n",
        "    def simulate_step(self, state: Tuple[int, int], action: int):\n",
        "        reward = self.compute_reward(state, action)\n",
        "        next_state = self._get_next_state(state, action)\n",
        "        done = next_state == self.goal\n",
        "        info = {}\n",
        "        return next_state, reward, done, info\n",
        "\n",
        "    def _get_next_state(self, state: Tuple[int, int], action: int) -> Tuple[int, int]:\n",
        "        if action == 0:\n",
        "            next_state = (state[0] - 1, state[1])\n",
        "        elif action == 1:\n",
        "            next_state = (state[0], state[1] + 1)\n",
        "        elif action == 2:\n",
        "            next_state = (state[0] + 1, state[1])\n",
        "        elif action == 3:\n",
        "            next_state = (state[0], state[1] - 1)\n",
        "        else:\n",
        "            raise ValueError(\"Action value not supported:\", action)\n",
        "        if next_state in self.maze[state]:\n",
        "            return next_state\n",
        "        return state\n",
        "\n",
        "    @staticmethod\n",
        "    def _create_maze(size: int) -> Dict[Tuple[int, int], Iterable[Tuple[int, int]]]:\n",
        "        maze = {(row, col): [(row - 1, col), (row + 1, col), (row, col - 1), (row, col + 1)]\n",
        "                for row in range(size) for col in range(size)}\n",
        "\n",
        "        left_edges = [[(row, 0), (row, -1)] for row in range(size)]\n",
        "        right_edges = [[(row, size - 1), (row, size)] for row in range(size)]\n",
        "        upper_edges = [[(0, col), (-1, col)] for col in range(size)]\n",
        "        lower_edges = [[(size - 1, col), (size, col)] for col in range(size)]\n",
        "        walls = [\n",
        "            [(1, 0), (1, 1)], [(2, 0), (2, 1)], [(3, 0), (3, 1)],\n",
        "            [(1, 1), (1, 2)], [(2, 1), (2, 2)], [(3, 1), (3, 2)],\n",
        "            [(3, 1), (4, 1)], [(0, 2), (1, 2)], [(1, 2), (1, 3)],\n",
        "            [(2, 2), (3, 2)], [(2, 3), (3, 3)], [(2, 4), (3, 4)],\n",
        "            [(4, 2), (4, 3)], [(1, 3), (1, 4)], [(2, 3), (2, 4)],\n",
        "        ]\n",
        "\n",
        "        obstacles = upper_edges + lower_edges + left_edges + right_edges + walls\n",
        "\n",
        "        for src, dst in obstacles:\n",
        "            maze[src].remove(dst)\n",
        "\n",
        "            if dst in maze:\n",
        "                maze[dst].remove(src)\n",
        "\n",
        "        return maze\n",
        "\n",
        "    @staticmethod\n",
        "    def _compute_distances(goal: Tuple[int, int],\n",
        "                           maze: Dict[Tuple[int, int], Iterable[Tuple[int, int]]]) -> np.ndarray:\n",
        "        distances = np.full((5, 5), np.inf)\n",
        "        visited = set()\n",
        "        distances[goal] = 0.\n",
        "\n",
        "        while visited != set(maze):\n",
        "            sorted_dst = [(v // 5, v % 5) for v in distances.argsort(axis=None)]\n",
        "            closest = next(x for x in sorted_dst if x not in visited)\n",
        "            visited.add(closest)\n",
        "\n",
        "            for neighbour in maze[closest]:\n",
        "                distances[neighbour] = min(distances[neighbour], distances[closest] + 1)\n",
        "        return distances\n",
        "\n",
        "\n",
        "def display_video(frames):\n",
        "    # Copied from: https://colab.research.google.com/github/deepmind/dm_control/blob/master/tutorial.ipynb\n",
        "    orig_backend = matplotlib.get_backend()\n",
        "    matplotlib.use('Agg')\n",
        "    fig, ax = plt.subplots(1, 1, figsize=(5, 5))\n",
        "    matplotlib.use(orig_backend)\n",
        "    ax.set_axis_off()\n",
        "    ax.set_aspect('equal')\n",
        "    ax.set_position([0, 0, 1, 1])\n",
        "    im = ax.imshow(frames[0])\n",
        "    def update(frame):\n",
        "        im.set_data(frame)\n",
        "        return [im]\n",
        "    anim = animation.FuncAnimation(fig=fig, func=update, frames=frames,\n",
        "                                    interval=50, blit=True, repeat=False)\n",
        "    return HTML(anim.to_html5_video())\n"
      ],
      "metadata": {
        "colab": {
          "base_uri": "https://localhost:8080/",
          "height": 0
        },
        "cellView": "form",
        "id": "h4aiHKcAxnxu",
        "outputId": "101cb997-e5f5-4ddb-8e8c-8998a3d362bc"
      },
      "execution_count": 1,
      "outputs": [
        {
          "output_type": "stream",
          "name": "stdout",
          "text": [
            "\u001b[?25l     \u001b[90m━━━━━━━━━━━━━━━━━━━━━━━━━━━━━━━━━━━━━━━━\u001b[0m \u001b[32m0.0/624.4 kB\u001b[0m \u001b[31m?\u001b[0m eta \u001b[36m-:--:--\u001b[0m\r\u001b[2K     \u001b[91m━━━━━━━━━━━━━━━━━━━━━━━━━━━━━━━━━━━━━━━\u001b[0m\u001b[90m╺\u001b[0m \u001b[32m614.4/624.4 kB\u001b[0m \u001b[31m19.8 MB/s\u001b[0m eta \u001b[36m0:00:01\u001b[0m\r\u001b[2K     \u001b[90m━━━━━━━━━━━━━━━━━━━━━━━━━━━━━━━━━━━━━━━━\u001b[0m \u001b[32m624.4/624.4 kB\u001b[0m \u001b[31m13.2 MB/s\u001b[0m eta \u001b[36m0:00:00\u001b[0m\n",
            "\u001b[?25h  Installing build dependencies ... \u001b[?25l\u001b[?25hdone\n",
            "  Getting requirements to build wheel ... \u001b[?25l\u001b[?25hdone\n",
            "  Preparing metadata (pyproject.toml) ... \u001b[?25l\u001b[?25hdone\n",
            "  Building wheel for gym (pyproject.toml) ... \u001b[?25l\u001b[?25hdone\n"
          ]
        }
      ]
    },
    {
      "cell_type": "code",
      "source": [],
      "metadata": {
        "id": "-nqTVO41yHBT"
      },
      "execution_count": null,
      "outputs": []
    },
    {
      "cell_type": "markdown",
      "metadata": {
        "id": "ibSRyE_2kzBL"
      },
      "source": [
        "## Quick view of the Gym library:\n",
        "<br/>\n",
        "<br/>\n",
        "\n",
        "Gym is a library for reinforcement learning research. It provides us with a simple interface to a large number of tasks, including\n",
        "\n",
        "- Classic control tasks (CartPole, Pendulum, MountainCar, etc)\n",
        "- Classic video games (Space Invaders, Breakout, Pong, etc)\n",
        "- Continuous control tasks\n",
        "- Robotic arm manipulation\n",
        "\n",
        "In this section we are going to get familiar with the five methods that we'll use while solving a control\n",
        "task.\n",
        "\n",
        "\n",
        "<br/>\n",
        "<br/>\n",
        "\n",
        "\n",
        "![title](https://github.com/escape-velocity-labs/beginner_master_rl/blob/main/img/mdp_diagram.svg?raw=1)\n",
        "\n",
        "###### Source: https://upload.wikimedia.org/wikipedia/commons/1/1b/Reinforcement_learning_diagram.svg"
      ]
    },
    {
      "cell_type": "markdown",
      "metadata": {
        "id": "DXOjbZOakzBL"
      },
      "source": [
        "##### Making the environment: Maze()\n",
        "\n",
        "To create an environment, just pass a string with its name to the gym.make method. If the environment exists, the method returns an instance of the gym.Env class, which represents the environment of the task we are going to solve."
      ]
    },
    {
      "cell_type": "code",
      "execution_count": 2,
      "metadata": {
        "pycharm": {
          "name": "#%%\n"
        },
        "id": "3MaQzsX8kzBK"
      },
      "outputs": [],
      "source": [
        "import gym\n",
        "import numpy as np\n",
        "from IPython import display\n",
        "from matplotlib import pyplot as plt\n",
        "\n",
        "%matplotlib inline"
      ]
    },
    {
      "cell_type": "code",
      "execution_count": 3,
      "metadata": {
        "id": "OzOU7ahAkzBL"
      },
      "outputs": [],
      "source": [
        "env = Maze()"
      ]
    },
    {
      "cell_type": "markdown",
      "metadata": {
        "id": "Y9Zf8RM9kzBL"
      },
      "source": [
        "###### env.reset()\n",
        "\n",
        "This method places the environment in its initial state to  and returns it so that the agent can observe it.\n"
      ]
    },
    {
      "cell_type": "code",
      "execution_count": 4,
      "metadata": {
        "id": "L0ZTYVoHkzBM",
        "colab": {
          "base_uri": "https://localhost:8080/"
        },
        "outputId": "b5343d9c-e054-4ac9-95dc-0c878dc38349"
      },
      "outputs": [
        {
          "output_type": "stream",
          "name": "stdout",
          "text": [
            "The new episode will start in state: (0, 0)\n"
          ]
        }
      ],
      "source": [
        "initial_state = env.reset()\n",
        "print(f\"The new episode will start in state: {initial_state}\")"
      ]
    },
    {
      "cell_type": "markdown",
      "metadata": {
        "id": "ipPJDHubkzBM"
      },
      "source": [
        "##### env.render()\n",
        "\n",
        "This method generates an image that represents the current state of the environment, in the form of a np.ndarray."
      ]
    },
    {
      "cell_type": "code",
      "execution_count": 5,
      "metadata": {
        "scrolled": true,
        "id": "ZNeffQeYkzBM",
        "colab": {
          "base_uri": "https://localhost:8080/",
          "height": 446
        },
        "outputId": "d7b90963-7270-462f-c3ad-e85244df5b43"
      },
      "outputs": [
        {
          "output_type": "execute_result",
          "data": {
            "text/plain": [
              "<matplotlib.image.AxesImage at 0x7a494c237eb0>"
            ]
          },
          "metadata": {},
          "execution_count": 5
        },
        {
          "output_type": "display_data",
          "data": {
            "text/plain": [
              "<Figure size 640x480 with 1 Axes>"
            ],
            "image/png": "[encoded data removed]"
          },
          "metadata": {}
        }
      ],
      "source": [
        "frame = env.render(mode='rgb_array')\n",
        "plt.axis('off')\n",
        "plt.title(f\"State: {initial_state}\")\n",
        "plt.imshow(frame)"
      ]
    },
    {
      "cell_type": "markdown",
      "metadata": {
        "id": "9-nfuN8YkzBM"
      },
      "source": [
        "##### env.step()\n",
        "\n",
        "This method applies the action selected by the agent in the environment, to modify it. In response, the environment returns a tuple of four objects:\n",
        "\n",
        "- The next state\n",
        "- The reward obtained\n",
        "- (bool) if the task has been completed\n",
        "- any other relevant information in a python dictionary"
      ]
    },
    {
      "cell_type": "code",
      "execution_count": 6,
      "metadata": {
        "id": "Z4OSEY9qkzBM",
        "colab": {
          "base_uri": "https://localhost:8080/"
        },
        "outputId": "cf0f65ea-ee65-43fa-9848-91be820a33df"
      },
      "outputs": [
        {
          "output_type": "stream",
          "name": "stdout",
          "text": [
            "After moving down 1 row, the agent is in state: (1, 0)\n",
            "After moving down 1 row, we got a reward of: -1.0\n",
            "After moving down 1 row, the task is not finished\n"
          ]
        }
      ],
      "source": [
        "action = 2\n",
        "next_state, reward, done, info = env.step(action)\n",
        "print(f\"After moving down 1 row, the agent is in state: {next_state}\")\n",
        "print(f\"After moving down 1 row, we got a reward of: {reward}\")\n",
        "print(\"After moving down 1 row, the task is\", \"\" if done else \"not\", \"finished\")"
      ]
    },
    {
      "cell_type": "markdown",
      "metadata": {
        "id": "plqDtRxykzBM"
      },
      "source": [
        "###### Render the new state"
      ]
    },
    {
      "cell_type": "code",
      "execution_count": 7,
      "metadata": {
        "id": "peCRUOJOkzBM",
        "colab": {
          "base_uri": "https://localhost:8080/",
          "height": 446
        },
        "outputId": "a89bc0c8-5dfc-45d7-dd6a-53250a7c7cdf"
      },
      "outputs": [
        {
          "output_type": "execute_result",
          "data": {
            "text/plain": [
              "<matplotlib.image.AxesImage at 0x7a494c238f70>"
            ]
          },
          "metadata": {},
          "execution_count": 7
        },
        {
          "output_type": "display_data",
          "data": {
            "text/plain": [
              "<Figure size 640x480 with 1 Axes>"
            ],
            "image/png": "[encoded data removed]"
          },
          "metadata": {}
        }
      ],
      "source": [
        "frame = env.render(mode='rgb_array')\n",
        "plt.axis('off')\n",
        "plt.title(f\"State: {next_state}\")\n",
        "plt.imshow(frame)"
      ]
    },
    {
      "cell_type": "markdown",
      "metadata": {
        "id": "0vjG25uekzBM"
      },
      "source": [
        "##### env.close()\n",
        "\n",
        "It completes the task and closes the environment, releasing the associated resources."
      ]
    },
    {
      "cell_type": "code",
      "execution_count": 8,
      "metadata": {
        "id": "F7GJc38UkzBN"
      },
      "outputs": [],
      "source": [
        "env.close()"
      ]
    },
    {
      "cell_type": "markdown",
      "metadata": {
        "id": "1U8GvYvzkzBN"
      },
      "source": [
        "## Maze environment: Find the exit.\n",
        "\n",
        "\n",
        "In this section we are going to familiarize ourselves with the environment that we'll use in the lessons 2 (dynamic programming), 3 (Monte Carlo methods) and 4 (temporal difference methods). This environment is perfect for learning the basics of Reinforcement Learning because:\n",
        "\n",
        "- It has few states (25)\n",
        "- Transitions between states are deterministic ($p(s', r| s, a) = 1$)\n",
        "- All rewards are the same (-1) until the episode concludes. Thus facilitating the study of the value and action-value functions\n",
        "\n",
        "Through this environment, we are going to review the concepts seen in lesson 1 (The Markov decision process):\n",
        "\n",
        "- States and state space\n",
        "- Actions and action space\n",
        "- Trajectories and episodes\n",
        "- Rewards and returns\n",
        "- Policy\n",
        "\n",
        "\n",
        "The environment is a maze of 5x5 cells, in which the goal of the agent is to find the exit, located in the lower right corner, in the cell (4,4). In the image, the exit is colored in light green.\n",
        "\n",
        "To reach the exit, the agent can take four different actions: move up, move down, move left and move right."
      ]
    },
    {
      "cell_type": "markdown",
      "metadata": {
        "id": "3F11h1aHkzBN"
      },
      "source": [
        "###### Create the environment."
      ]
    },
    {
      "cell_type": "code",
      "execution_count": 9,
      "metadata": {
        "id": "OpfNnSqWkzBN"
      },
      "outputs": [],
      "source": [
        "env = Maze()"
      ]
    },
    {
      "cell_type": "markdown",
      "metadata": {
        "id": "HT_Ik1H5kzBN"
      },
      "source": [
        "##### States and state space\n",
        "\n",
        "The states consist of a tuple of two integers, both in the range [0, 4], representing the row and column in which the agent is currently located:\n",
        "<br>\n",
        "<br>\n",
        "\n",
        "\\begin{equation}\n",
        "    s = (row, column) \\;\\\\\n",
        "    row, column \\in \\{0,1,2,3, 4\\}\n",
        "\\end{equation}\n",
        "<br>\n",
        "<br>\n",
        "The state space (set of all possible states in the task) has 25 elements (all possible combinations of rows and columns):\n",
        "\n",
        "\n",
        "\\begin{equation}\n",
        "    Rows \\times Columns \\;\\\\\n",
        "    S = \\{(0, 0), (0, 1), (1, 0), ...\\}\n",
        "\\end{equation}\n",
        "\n",
        "Information about the state space is stored in the env.observation_space property. In this environment, it is of MultiDiscrete([5 5]) type, which means that it consists of two elements (rows and columns), each with 5 different values."
      ]
    },
    {
      "cell_type": "code",
      "execution_count": 10,
      "metadata": {
        "id": "z-5Mnmm0kzBN",
        "colab": {
          "base_uri": "https://localhost:8080/"
        },
        "outputId": "40c84328-b685-45e8-ca89-8508f961da90"
      },
      "outputs": [
        {
          "output_type": "stream",
          "name": "stdout",
          "text": [
            "For example, the initial state is: (0, 0)\n",
            "The space state is of type: MultiDiscrete([5 5])\n"
          ]
        }
      ],
      "source": [
        "print(f\"For example, the initial state is: {env.reset()}\")\n",
        "print(f\"The space state is of type: {env.observation_space}\")"
      ]
    },
    {
      "cell_type": "markdown",
      "metadata": {
        "id": "Id_veMkskzBN"
      },
      "source": [
        "##### Actions and action space\n",
        "\n",
        "In this environment, there are four different actions and they are represented by integers:\n",
        "\n",
        "\\begin{equation}\n",
        "a \\in \\{0, 1, 2, 3\\}\n",
        "\\end{equation}\n",
        "\n",
        "- 0 -> move up\n",
        "- 1 -> move right\n",
        "- 2 -> move down\n",
        "- 3 -> move left\n",
        "\n",
        "To execute an action, simply pass it as an argument to the env.step method. Information about the action space is stored in the env.action_space property which is of Discrete(4) class. This means that in this case it only consists of an element in the range [0,4), unlike the state space seen above.\n"
      ]
    },
    {
      "cell_type": "code",
      "execution_count": 11,
      "metadata": {
        "id": "KC8iHy6lkzBN",
        "colab": {
          "base_uri": "https://localhost:8080/"
        },
        "outputId": "f25a6709-405d-424e-c6f4-a14ddc5f130e"
      },
      "outputs": [
        {
          "output_type": "stream",
          "name": "stdout",
          "text": [
            "An example of a valid action is: 3\n",
            "The action state is of type: Discrete(4)\n"
          ]
        }
      ],
      "source": [
        "print(f\"An example of a valid action is: {env.action_space.sample()}\")\n",
        "print(f\"The action state is of type: {env.action_space}\")"
      ]
    },
    {
      "cell_type": "markdown",
      "metadata": {
        "id": "dribhLtQkzBO"
      },
      "source": [
        "##### Trajectories and episodes\n",
        "\n",
        "A trajectory is the sequence generated by moving from one state to another (both arbitrary)\n",
        "\n",
        "\\begin{equation}\n",
        "  \\tau = S_0, A_0, R_1, S_1, A_1, ... R_N, S_N,\n",
        "\\end{equation}\n",
        "\n",
        "Let's generate a trajectory of 3 moves in code:"
      ]
    },
    {
      "cell_type": "code",
      "execution_count": 12,
      "metadata": {
        "id": "tVqrUPk5kzBO",
        "colab": {
          "base_uri": "https://localhost:8080/"
        },
        "outputId": "210988ac-49d1-478a-c626-8491f8da7048"
      },
      "outputs": [
        {
          "output_type": "stream",
          "name": "stdout",
          "text": [
            "Congrats! You just generated your first trajectory:\n",
            "[[(0, 0), 1, -1.0, False, (0, 1)], [(0, 1), 3, -1.0, False, (0, 0)], [(0, 0), 2, -1.0, False, (1, 0)]]\n"
          ]
        }
      ],
      "source": [
        "env = Maze()\n",
        "state = env.reset()\n",
        "trajectory = []\n",
        "for _ in range(3):\n",
        "    action = env.action_space.sample()\n",
        "    next_state, reward, done, extra_info = env.step(action)\n",
        "    trajectory.append([state, action, reward, done, next_state])\n",
        "    state = next_state\n",
        "env.close()\n",
        "\n",
        "print(f\"Congrats! You just generated your first trajectory:\\n{trajectory}\")"
      ]
    },
    {
      "cell_type": "markdown",
      "metadata": {
        "id": "rJzFOtbOkzBO"
      },
      "source": [
        "An episode is a trajectory that goes from the initial state of the process to the final one:\n",
        "\n",
        "\\begin{equation}\n",
        "  \\tau = S_0, A_0, R_1, S_1, A_1, ... R_T, S_T,\n",
        "\\end{equation}\n",
        "where T is the terminal state.\n",
        "\n",
        "Let's generate a whole episode in code:"
      ]
    },
    {
      "cell_type": "code",
      "execution_count": 14,
      "metadata": {
        "id": "Qeylme63kzBO",
        "colab": {
          "base_uri": "https://localhost:8080/"
        },
        "outputId": "6d298a6e-2b33-443a-b0e3-c8fb8a13a597"
      },
      "outputs": [
        {
          "output_type": "stream",
          "name": "stdout",
          "text": [
            "Congrats! You just generated your first episode:\n",
            "[[(0, 0), 3, -1.0, False, (0, 0)], [(0, 0), 2, -1.0, False, (1, 0)], [(1, 0), 3, -1.0, False, (1, 0)], [(1, 0), 0, -1.0, False, (0, 0)], [(0, 0), 1, -1.0, False, (0, 1)], [(0, 1), 3, -1.0, False, (0, 0)], [(0, 0), 1, -1.0, False, (0, 1)], [(0, 1), 2, -1.0, False, (1, 1)], [(1, 1), 1, -1.0, False, (1, 1)], [(1, 1), 2, -1.0, False, (2, 1)], [(2, 1), 3, -1.0, False, (2, 1)], [(2, 1), 2, -1.0, False, (3, 1)], [(3, 1), 0, -1.0, False, (2, 1)], [(2, 1), 2, -1.0, False, (3, 1)], [(3, 1), 1, -1.0, False, (3, 1)], [(3, 1), 0, -1.0, False, (2, 1)], [(2, 1), 2, -1.0, False, (3, 1)], [(3, 1), 0, -1.0, False, (2, 1)], [(2, 1), 2, -1.0, False, (3, 1)], [(3, 1), 3, -1.0, False, (3, 1)], [(3, 1), 0, -1.0, False, (2, 1)], [(2, 1), 2, -1.0, False, (3, 1)], [(3, 1), 1, -1.0, False, (3, 1)], [(3, 1), 2, -1.0, False, (3, 1)], [(3, 1), 1, -1.0, False, (3, 1)], [(3, 1), 3, -1.0, False, (3, 1)], [(3, 1), 1, -1.0, False, (3, 1)], [(3, 1), 1, -1.0, False, (3, 1)], [(3, 1), 3, -1.0, False, (3, 1)], [(3, 1), 3, -1.0, False, (3, 1)], [(3, 1), 2, -1.0, False, (3, 1)], [(3, 1), 1, -1.0, False, (3, 1)], [(3, 1), 3, -1.0, False, (3, 1)], [(3, 1), 0, -1.0, False, (2, 1)], [(2, 1), 1, -1.0, False, (2, 1)], [(2, 1), 1, -1.0, False, (2, 1)], [(2, 1), 1, -1.0, False, (2, 1)], [(2, 1), 2, -1.0, False, (3, 1)], [(3, 1), 2, -1.0, False, (3, 1)], [(3, 1), 3, -1.0, False, (3, 1)], [(3, 1), 2, -1.0, False, (3, 1)], [(3, 1), 1, -1.0, False, (3, 1)], [(3, 1), 2, -1.0, False, (3, 1)], [(3, 1), 1, -1.0, False, (3, 1)], [(3, 1), 0, -1.0, False, (2, 1)], [(2, 1), 1, -1.0, False, (2, 1)], [(2, 1), 2, -1.0, False, (3, 1)], [(3, 1), 3, -1.0, False, (3, 1)], [(3, 1), 3, -1.0, False, (3, 1)], [(3, 1), 0, -1.0, False, (2, 1)], [(2, 1), 2, -1.0, False, (3, 1)], [(3, 1), 0, -1.0, False, (2, 1)], [(2, 1), 1, -1.0, False, (2, 1)], [(2, 1), 0, -1.0, False, (1, 1)], [(1, 1), 0, -1.0, False, (0, 1)], [(0, 1), 2, -1.0, False, (1, 1)], [(1, 1), 1, -1.0, False, (1, 1)], [(1, 1), 0, -1.0, False, (0, 1)], [(0, 1), 3, -1.0, False, (0, 0)], [(0, 0), 3, -1.0, False, (0, 0)], [(0, 0), 2, -1.0, False, (1, 0)], [(1, 0), 2, -1.0, False, (2, 0)], [(2, 0), 0, -1.0, False, (1, 0)], [(1, 0), 1, -1.0, False, (1, 0)], [(1, 0), 1, -1.0, False, (1, 0)], [(1, 0), 2, -1.0, False, (2, 0)], [(2, 0), 3, -1.0, False, (2, 0)], [(2, 0), 1, -1.0, False, (2, 0)], [(2, 0), 1, -1.0, False, (2, 0)], [(2, 0), 2, -1.0, False, (3, 0)], [(3, 0), 1, -1.0, False, (3, 0)], [(3, 0), 1, -1.0, False, (3, 0)], [(3, 0), 2, -1.0, False, (4, 0)], [(4, 0), 1, -1.0, False, (4, 1)], [(4, 1), 3, -1.0, False, (4, 0)], [(4, 0), 3, -1.0, False, (4, 0)], [(4, 0), 0, -1.0, False, (3, 0)], [(3, 0), 0, -1.0, False, (2, 0)], [(2, 0), 3, -1.0, False, (2, 0)], [(2, 0), 3, -1.0, False, (2, 0)], [(2, 0), 1, -1.0, False, (2, 0)], [(2, 0), 0, -1.0, False, (1, 0)], [(1, 0), 3, -1.0, False, (1, 0)], [(1, 0), 3, -1.0, False, (1, 0)], [(1, 0), 3, -1.0, False, (1, 0)], [(1, 0), 0, -1.0, False, (0, 0)], [(0, 0), 3, -1.0, False, (0, 0)], [(0, 0), 1, -1.0, False, (0, 1)], [(0, 1), 2, -1.0, False, (1, 1)], [(1, 1), 3, -1.0, False, (1, 1)], [(1, 1), 0, -1.0, False, (0, 1)], [(0, 1), 0, -1.0, False, (0, 1)], [(0, 1), 2, -1.0, False, (1, 1)], [(1, 1), 3, -1.0, False, (1, 1)], [(1, 1), 1, -1.0, False, (1, 1)], [(1, 1), 0, -1.0, False, (0, 1)], [(0, 1), 0, -1.0, False, (0, 1)], [(0, 1), 2, -1.0, False, (1, 1)], [(1, 1), 3, -1.0, False, (1, 1)], [(1, 1), 1, -1.0, False, (1, 1)], [(1, 1), 3, -1.0, False, (1, 1)], [(1, 1), 3, -1.0, False, (1, 1)], [(1, 1), 1, -1.0, False, (1, 1)], [(1, 1), 1, -1.0, False, (1, 1)], [(1, 1), 1, -1.0, False, (1, 1)], [(1, 1), 1, -1.0, False, (1, 1)], [(1, 1), 2, -1.0, False, (2, 1)], [(2, 1), 2, -1.0, False, (3, 1)], [(3, 1), 2, -1.0, False, (3, 1)], [(3, 1), 3, -1.0, False, (3, 1)], [(3, 1), 0, -1.0, False, (2, 1)], [(2, 1), 1, -1.0, False, (2, 1)], [(2, 1), 3, -1.0, False, (2, 1)], [(2, 1), 0, -1.0, False, (1, 1)], [(1, 1), 0, -1.0, False, (0, 1)], [(0, 1), 1, -1.0, False, (0, 2)], [(0, 2), 0, -1.0, False, (0, 2)], [(0, 2), 0, -1.0, False, (0, 2)], [(0, 2), 1, -1.0, False, (0, 3)], [(0, 3), 2, -1.0, False, (1, 3)], [(1, 3), 0, -1.0, False, (0, 3)], [(0, 3), 0, -1.0, False, (0, 3)], [(0, 3), 0, -1.0, False, (0, 3)], [(0, 3), 0, -1.0, False, (0, 3)], [(0, 3), 2, -1.0, False, (1, 3)], [(1, 3), 2, -1.0, False, (2, 3)], [(2, 3), 3, -1.0, False, (2, 2)], [(2, 2), 2, -1.0, False, (2, 2)], [(2, 2), 3, -1.0, False, (2, 2)], [(2, 2), 0, -1.0, False, (1, 2)], [(1, 2), 1, -1.0, False, (1, 2)], [(1, 2), 3, -1.0, False, (1, 2)], [(1, 2), 0, -1.0, False, (1, 2)], [(1, 2), 3, -1.0, False, (1, 2)], [(1, 2), 3, -1.0, False, (1, 2)], [(1, 2), 3, -1.0, False, (1, 2)], [(1, 2), 1, -1.0, False, (1, 2)], [(1, 2), 1, -1.0, False, (1, 2)], [(1, 2), 2, -1.0, False, (2, 2)], [(2, 2), 3, -1.0, False, (2, 2)], [(2, 2), 1, -1.0, False, (2, 3)], [(2, 3), 0, -1.0, False, (1, 3)], [(1, 3), 0, -1.0, False, (0, 3)], [(0, 3), 3, -1.0, False, (0, 2)], [(0, 2), 0, -1.0, False, (0, 2)], [(0, 2), 0, -1.0, False, (0, 2)], [(0, 2), 3, -1.0, False, (0, 1)], [(0, 1), 2, -1.0, False, (1, 1)], [(1, 1), 2, -1.0, False, (2, 1)], [(2, 1), 0, -1.0, False, (1, 1)], [(1, 1), 1, -1.0, False, (1, 1)], [(1, 1), 3, -1.0, False, (1, 1)], [(1, 1), 2, -1.0, False, (2, 1)], [(2, 1), 2, -1.0, False, (3, 1)], [(3, 1), 0, -1.0, False, (2, 1)], [(2, 1), 3, -1.0, False, (2, 1)], [(2, 1), 3, -1.0, False, (2, 1)], [(2, 1), 2, -1.0, False, (3, 1)], [(3, 1), 2, -1.0, False, (3, 1)], [(3, 1), 1, -1.0, False, (3, 1)], [(3, 1), 3, -1.0, False, (3, 1)], [(3, 1), 3, -1.0, False, (3, 1)], [(3, 1), 2, -1.0, False, (3, 1)], [(3, 1), 2, -1.0, False, (3, 1)], [(3, 1), 2, -1.0, False, (3, 1)], [(3, 1), 1, -1.0, False, (3, 1)], [(3, 1), 2, -1.0, False, (3, 1)], [(3, 1), 1, -1.0, False, (3, 1)], [(3, 1), 3, -1.0, False, (3, 1)], [(3, 1), 2, -1.0, False, (3, 1)], [(3, 1), 0, -1.0, False, (2, 1)], [(2, 1), 2, -1.0, False, (3, 1)], [(3, 1), 3, -1.0, False, (3, 1)], [(3, 1), 0, -1.0, False, (2, 1)], [(2, 1), 0, -1.0, False, (1, 1)], [(1, 1), 2, -1.0, False, (2, 1)], [(2, 1), 1, -1.0, False, (2, 1)], [(2, 1), 3, -1.0, False, (2, 1)], [(2, 1), 1, -1.0, False, (2, 1)], [(2, 1), 0, -1.0, False, (1, 1)], [(1, 1), 3, -1.0, False, (1, 1)], [(1, 1), 0, -1.0, False, (0, 1)], [(0, 1), 1, -1.0, False, (0, 2)], [(0, 2), 3, -1.0, False, (0, 1)], [(0, 1), 1, -1.0, False, (0, 2)], [(0, 2), 3, -1.0, False, (0, 1)], [(0, 1), 0, -1.0, False, (0, 1)], [(0, 1), 1, -1.0, False, (0, 2)], [(0, 2), 1, -1.0, False, (0, 3)], [(0, 3), 2, -1.0, False, (1, 3)], [(1, 3), 3, -1.0, False, (1, 3)], [(1, 3), 2, -1.0, False, (2, 3)], [(2, 3), 2, -1.0, False, (2, 3)], [(2, 3), 3, -1.0, False, (2, 2)], [(2, 2), 1, -1.0, False, (2, 3)], [(2, 3), 1, -1.0, False, (2, 3)], [(2, 3), 3, -1.0, False, (2, 2)], [(2, 2), 3, -1.0, False, (2, 2)], [(2, 2), 2, -1.0, False, (2, 2)], [(2, 2), 3, -1.0, False, (2, 2)], [(2, 2), 0, -1.0, False, (1, 2)], [(1, 2), 2, -1.0, False, (2, 2)], [(2, 2), 0, -1.0, False, (1, 2)], [(1, 2), 3, -1.0, False, (1, 2)], [(1, 2), 2, -1.0, False, (2, 2)], [(2, 2), 0, -1.0, False, (1, 2)], [(1, 2), 1, -1.0, False, (1, 2)], [(1, 2), 3, -1.0, False, (1, 2)], [(1, 2), 0, -1.0, False, (1, 2)], [(1, 2), 0, -1.0, False, (1, 2)], [(1, 2), 1, -1.0, False, (1, 2)], [(1, 2), 0, -1.0, False, (1, 2)], [(1, 2), 2, -1.0, False, (2, 2)], [(2, 2), 3, -1.0, False, (2, 2)], [(2, 2), 3, -1.0, False, (2, 2)], [(2, 2), 0, -1.0, False, (1, 2)], [(1, 2), 2, -1.0, False, (2, 2)], [(2, 2), 2, -1.0, False, (2, 2)], [(2, 2), 0, -1.0, False, (1, 2)], [(1, 2), 3, -1.0, False, (1, 2)], [(1, 2), 0, -1.0, False, (1, 2)], [(1, 2), 0, -1.0, False, (1, 2)], [(1, 2), 3, -1.0, False, (1, 2)], [(1, 2), 3, -1.0, False, (1, 2)], [(1, 2), 1, -1.0, False, (1, 2)], [(1, 2), 1, -1.0, False, (1, 2)], [(1, 2), 3, -1.0, False, (1, 2)], [(1, 2), 3, -1.0, False, (1, 2)], [(1, 2), 0, -1.0, False, (1, 2)], [(1, 2), 0, -1.0, False, (1, 2)], [(1, 2), 3, -1.0, False, (1, 2)], [(1, 2), 0, -1.0, False, (1, 2)], [(1, 2), 2, -1.0, False, (2, 2)], [(2, 2), 2, -1.0, False, (2, 2)], [(2, 2), 3, -1.0, False, (2, 2)], [(2, 2), 3, -1.0, False, (2, 2)], [(2, 2), 0, -1.0, False, (1, 2)], [(1, 2), 1, -1.0, False, (1, 2)], [(1, 2), 1, -1.0, False, (1, 2)], [(1, 2), 2, -1.0, False, (2, 2)], [(2, 2), 2, -1.0, False, (2, 2)], [(2, 2), 2, -1.0, False, (2, 2)], [(2, 2), 3, -1.0, False, (2, 2)], [(2, 2), 1, -1.0, False, (2, 3)], [(2, 3), 0, -1.0, False, (1, 3)], [(1, 3), 0, -1.0, False, (0, 3)], [(0, 3), 0, -1.0, False, (0, 3)], [(0, 3), 1, -1.0, False, (0, 4)], [(0, 4), 1, -1.0, False, (0, 4)], [(0, 4), 3, -1.0, False, (0, 3)], [(0, 3), 0, -1.0, False, (0, 3)], [(0, 3), 3, -1.0, False, (0, 2)], [(0, 2), 0, -1.0, False, (0, 2)], [(0, 2), 3, -1.0, False, (0, 1)], [(0, 1), 0, -1.0, False, (0, 1)], [(0, 1), 3, -1.0, False, (0, 0)], [(0, 0), 3, -1.0, False, (0, 0)], [(0, 0), 1, -1.0, False, (0, 1)], [(0, 1), 1, -1.0, False, (0, 2)], [(0, 2), 0, -1.0, False, (0, 2)], [(0, 2), 1, -1.0, False, (0, 3)], [(0, 3), 0, -1.0, False, (0, 3)], [(0, 3), 2, -1.0, False, (1, 3)], [(1, 3), 0, -1.0, False, (0, 3)], [(0, 3), 0, -1.0, False, (0, 3)], [(0, 3), 0, -1.0, False, (0, 3)], [(0, 3), 1, -1.0, False, (0, 4)], [(0, 4), 3, -1.0, False, (0, 3)], [(0, 3), 2, -1.0, False, (1, 3)], [(1, 3), 0, -1.0, False, (0, 3)], [(0, 3), 1, -1.0, False, (0, 4)], [(0, 4), 3, -1.0, False, (0, 3)], [(0, 3), 1, -1.0, False, (0, 4)], [(0, 4), 3, -1.0, False, (0, 3)], [(0, 3), 1, -1.0, False, (0, 4)], [(0, 4), 2, -1.0, False, (1, 4)], [(1, 4), 1, -1.0, False, (1, 4)], [(1, 4), 3, -1.0, False, (1, 4)], [(1, 4), 0, -1.0, False, (0, 4)], [(0, 4), 1, -1.0, False, (0, 4)], [(0, 4), 0, -1.0, False, (0, 4)], [(0, 4), 3, -1.0, False, (0, 3)], [(0, 3), 3, -1.0, False, (0, 2)], [(0, 2), 2, -1.0, False, (0, 2)], [(0, 2), 3, -1.0, False, (0, 1)], [(0, 1), 3, -1.0, False, (0, 0)], [(0, 0), 0, -1.0, False, (0, 0)], [(0, 0), 0, -1.0, False, (0, 0)], [(0, 0), 2, -1.0, False, (1, 0)], [(1, 0), 2, -1.0, False, (2, 0)], [(2, 0), 2, -1.0, False, (3, 0)], [(3, 0), 0, -1.0, False, (2, 0)], [(2, 0), 2, -1.0, False, (3, 0)], [(3, 0), 2, -1.0, False, (4, 0)], [(4, 0), 2, -1.0, False, (4, 0)], [(4, 0), 2, -1.0, False, (4, 0)], [(4, 0), 0, -1.0, False, (3, 0)], [(3, 0), 3, -1.0, False, (3, 0)], [(3, 0), 0, -1.0, False, (2, 0)], [(2, 0), 2, -1.0, False, (3, 0)], [(3, 0), 3, -1.0, False, (3, 0)], [(3, 0), 1, -1.0, False, (3, 0)], [(3, 0), 2, -1.0, False, (4, 0)], [(4, 0), 0, -1.0, False, (3, 0)], [(3, 0), 0, -1.0, False, (2, 0)], [(2, 0), 3, -1.0, False, (2, 0)], [(2, 0), 0, -1.0, False, (1, 0)], [(1, 0), 1, -1.0, False, (1, 0)], [(1, 0), 1, -1.0, False, (1, 0)], [(1, 0), 3, -1.0, False, (1, 0)], [(1, 0), 2, -1.0, False, (2, 0)], [(2, 0), 1, -1.0, False, (2, 0)], [(2, 0), 3, -1.0, False, (2, 0)], [(2, 0), 0, -1.0, False, (1, 0)], [(1, 0), 0, -1.0, False, (0, 0)], [(0, 0), 1, -1.0, False, (0, 1)], [(0, 1), 0, -1.0, False, (0, 1)], [(0, 1), 0, -1.0, False, (0, 1)], [(0, 1), 3, -1.0, False, (0, 0)], [(0, 0), 1, -1.0, False, (0, 1)], [(0, 1), 2, -1.0, False, (1, 1)], [(1, 1), 2, -1.0, False, (2, 1)], [(2, 1), 2, -1.0, False, (3, 1)], [(3, 1), 0, -1.0, False, (2, 1)], [(2, 1), 3, -1.0, False, (2, 1)], [(2, 1), 2, -1.0, False, (3, 1)], [(3, 1), 1, -1.0, False, (3, 1)], [(3, 1), 1, -1.0, False, (3, 1)], [(3, 1), 3, -1.0, False, (3, 1)], [(3, 1), 2, -1.0, False, (3, 1)], [(3, 1), 3, -1.0, False, (3, 1)], [(3, 1), 3, -1.0, False, (3, 1)], [(3, 1), 3, -1.0, False, (3, 1)], [(3, 1), 2, -1.0, False, (3, 1)], [(3, 1), 2, -1.0, False, (3, 1)], [(3, 1), 1, -1.0, False, (3, 1)], [(3, 1), 2, -1.0, False, (3, 1)], [(3, 1), 1, -1.0, False, (3, 1)], [(3, 1), 1, -1.0, False, (3, 1)], [(3, 1), 0, -1.0, False, (2, 1)], [(2, 1), 2, -1.0, False, (3, 1)], [(3, 1), 1, -1.0, False, (3, 1)], [(3, 1), 1, -1.0, False, (3, 1)], [(3, 1), 0, -1.0, False, (2, 1)], [(2, 1), 1, -1.0, False, (2, 1)], [(2, 1), 1, -1.0, False, (2, 1)], [(2, 1), 3, -1.0, False, (2, 1)], [(2, 1), 0, -1.0, False, (1, 1)], [(1, 1), 3, -1.0, False, (1, 1)], [(1, 1), 2, -1.0, False, (2, 1)], [(2, 1), 2, -1.0, False, (3, 1)], [(3, 1), 0, -1.0, False, (2, 1)], [(2, 1), 2, -1.0, False, (3, 1)], [(3, 1), 2, -1.0, False, (3, 1)], [(3, 1), 2, -1.0, False, (3, 1)], [(3, 1), 3, -1.0, False, (3, 1)], [(3, 1), 2, -1.0, False, (3, 1)], [(3, 1), 3, -1.0, False, (3, 1)], [(3, 1), 0, -1.0, False, (2, 1)], [(2, 1), 2, -1.0, False, (3, 1)], [(3, 1), 2, -1.0, False, (3, 1)], [(3, 1), 3, -1.0, False, (3, 1)], [(3, 1), 2, -1.0, False, (3, 1)], [(3, 1), 3, -1.0, False, (3, 1)], [(3, 1), 2, -1.0, False, (3, 1)], [(3, 1), 3, -1.0, False, (3, 1)], [(3, 1), 2, -1.0, False, (3, 1)], [(3, 1), 0, -1.0, False, (2, 1)], [(2, 1), 3, -1.0, False, (2, 1)], [(2, 1), 3, -1.0, False, (2, 1)], [(2, 1), 2, -1.0, False, (3, 1)], [(3, 1), 3, -1.0, False, (3, 1)], [(3, 1), 1, -1.0, False, (3, 1)], [(3, 1), 3, -1.0, False, (3, 1)], [(3, 1), 0, -1.0, False, (2, 1)], [(2, 1), 1, -1.0, False, (2, 1)], [(2, 1), 3, -1.0, False, (2, 1)], [(2, 1), 0, -1.0, False, (1, 1)], [(1, 1), 3, -1.0, False, (1, 1)], [(1, 1), 1, -1.0, False, (1, 1)], [(1, 1), 1, -1.0, False, (1, 1)], [(1, 1), 3, -1.0, False, (1, 1)], [(1, 1), 2, -1.0, False, (2, 1)], [(2, 1), 0, -1.0, False, (1, 1)], [(1, 1), 2, -1.0, False, (2, 1)], [(2, 1), 2, -1.0, False, (3, 1)], [(3, 1), 0, -1.0, False, (2, 1)], [(2, 1), 2, -1.0, False, (3, 1)], [(3, 1), 2, -1.0, False, (3, 1)], [(3, 1), 3, -1.0, False, (3, 1)], [(3, 1), 2, -1.0, False, (3, 1)], [(3, 1), 1, -1.0, False, (3, 1)], [(3, 1), 1, -1.0, False, (3, 1)], [(3, 1), 2, -1.0, False, (3, 1)], [(3, 1), 3, -1.0, False, (3, 1)], [(3, 1), 3, -1.0, False, (3, 1)], [(3, 1), 2, -1.0, False, (3, 1)], [(3, 1), 3, -1.0, False, (3, 1)], [(3, 1), 0, -1.0, False, (2, 1)], [(2, 1), 3, -1.0, False, (2, 1)], [(2, 1), 1, -1.0, False, (2, 1)], [(2, 1), 2, -1.0, False, (3, 1)], [(3, 1), 0, -1.0, False, (2, 1)], [(2, 1), 2, -1.0, False, (3, 1)], [(3, 1), 3, -1.0, False, (3, 1)], [(3, 1), 0, -1.0, False, (2, 1)], [(2, 1), 0, -1.0, False, (1, 1)], [(1, 1), 3, -1.0, False, (1, 1)], [(1, 1), 0, -1.0, False, (0, 1)], [(0, 1), 1, -1.0, False, (0, 2)], [(0, 2), 0, -1.0, False, (0, 2)], [(0, 2), 0, -1.0, False, (0, 2)], [(0, 2), 2, -1.0, False, (0, 2)], [(0, 2), 3, -1.0, False, (0, 1)], [(0, 1), 3, -1.0, False, (0, 0)], [(0, 0), 0, -1.0, False, (0, 0)], [(0, 0), 2, -1.0, False, (1, 0)], [(1, 0), 3, -1.0, False, (1, 0)], [(1, 0), 3, -1.0, False, (1, 0)], [(1, 0), 0, -1.0, False, (0, 0)], [(0, 0), 1, -1.0, False, (0, 1)], [(0, 1), 1, -1.0, False, (0, 2)], [(0, 2), 1, -1.0, False, (0, 3)], [(0, 3), 3, -1.0, False, (0, 2)], [(0, 2), 3, -1.0, False, (0, 1)], [(0, 1), 0, -1.0, False, (0, 1)], [(0, 1), 2, -1.0, False, (1, 1)], [(1, 1), 2, -1.0, False, (2, 1)], [(2, 1), 0, -1.0, False, (1, 1)], [(1, 1), 3, -1.0, False, (1, 1)], [(1, 1), 1, -1.0, False, (1, 1)], [(1, 1), 2, -1.0, False, (2, 1)], [(2, 1), 2, -1.0, False, (3, 1)], [(3, 1), 2, -1.0, False, (3, 1)], [(3, 1), 1, -1.0, False, (3, 1)], [(3, 1), 1, -1.0, False, (3, 1)], [(3, 1), 3, -1.0, False, (3, 1)], [(3, 1), 1, -1.0, False, (3, 1)], [(3, 1), 0, -1.0, False, (2, 1)], [(2, 1), 2, -1.0, False, (3, 1)], [(3, 1), 2, -1.0, False, (3, 1)], [(3, 1), 1, -1.0, False, (3, 1)], [(3, 1), 2, -1.0, False, (3, 1)], [(3, 1), 1, -1.0, False, (3, 1)], [(3, 1), 3, -1.0, False, (3, 1)], [(3, 1), 1, -1.0, False, (3, 1)], [(3, 1), 1, -1.0, False, (3, 1)], [(3, 1), 3, -1.0, False, (3, 1)], [(3, 1), 1, -1.0, False, (3, 1)], [(3, 1), 1, -1.0, False, (3, 1)], [(3, 1), 1, -1.0, False, (3, 1)], [(3, 1), 1, -1.0, False, (3, 1)], [(3, 1), 0, -1.0, False, (2, 1)], [(2, 1), 1, -1.0, False, (2, 1)], [(2, 1), 1, -1.0, False, (2, 1)], [(2, 1), 3, -1.0, False, (2, 1)], [(2, 1), 1, -1.0, False, (2, 1)], [(2, 1), 2, -1.0, False, (3, 1)], [(3, 1), 0, -1.0, False, (2, 1)], [(2, 1), 0, -1.0, False, (1, 1)], [(1, 1), 3, -1.0, False, (1, 1)], [(1, 1), 2, -1.0, False, (2, 1)], [(2, 1), 1, -1.0, False, (2, 1)], [(2, 1), 1, -1.0, False, (2, 1)], [(2, 1), 2, -1.0, False, (3, 1)], [(3, 1), 1, -1.0, False, (3, 1)], [(3, 1), 2, -1.0, False, (3, 1)], [(3, 1), 1, -1.0, False, (3, 1)], [(3, 1), 1, -1.0, False, (3, 1)], [(3, 1), 3, -1.0, False, (3, 1)], [(3, 1), 0, -1.0, False, (2, 1)], [(2, 1), 2, -1.0, False, (3, 1)], [(3, 1), 2, -1.0, False, (3, 1)], [(3, 1), 3, -1.0, False, (3, 1)], [(3, 1), 3, -1.0, False, (3, 1)], [(3, 1), 2, -1.0, False, (3, 1)], [(3, 1), 3, -1.0, False, (3, 1)], [(3, 1), 0, -1.0, False, (2, 1)], [(2, 1), 2, -1.0, False, (3, 1)], [(3, 1), 3, -1.0, False, (3, 1)], [(3, 1), 0, -1.0, False, (2, 1)], [(2, 1), 2, -1.0, False, (3, 1)], [(3, 1), 0, -1.0, False, (2, 1)], [(2, 1), 2, -1.0, False, (3, 1)], [(3, 1), 3, -1.0, False, (3, 1)], [(3, 1), 3, -1.0, False, (3, 1)], [(3, 1), 1, -1.0, False, (3, 1)], [(3, 1), 2, -1.0, False, (3, 1)], [(3, 1), 2, -1.0, False, (3, 1)], [(3, 1), 0, -1.0, False, (2, 1)], [(2, 1), 3, -1.0, False, (2, 1)], [(2, 1), 0, -1.0, False, (1, 1)], [(1, 1), 3, -1.0, False, (1, 1)], [(1, 1), 1, -1.0, False, (1, 1)], [(1, 1), 2, -1.0, False, (2, 1)], [(2, 1), 2, -1.0, False, (3, 1)], [(3, 1), 1, -1.0, False, (3, 1)], [(3, 1), 0, -1.0, False, (2, 1)], [(2, 1), 1, -1.0, False, (2, 1)], [(2, 1), 0, -1.0, False, (1, 1)], [(1, 1), 2, -1.0, False, (2, 1)], [(2, 1), 3, -1.0, False, (2, 1)], [(2, 1), 3, -1.0, False, (2, 1)], [(2, 1), 3, -1.0, False, (2, 1)], [(2, 1), 3, -1.0, False, (2, 1)], [(2, 1), 1, -1.0, False, (2, 1)], [(2, 1), 1, -1.0, False, (2, 1)], [(2, 1), 1, -1.0, False, (2, 1)], [(2, 1), 2, -1.0, False, (3, 1)], [(3, 1), 2, -1.0, False, (3, 1)], [(3, 1), 1, -1.0, False, (3, 1)], [(3, 1), 3, -1.0, False, (3, 1)], [(3, 1), 0, -1.0, False, (2, 1)], [(2, 1), 1, -1.0, False, (2, 1)], [(2, 1), 1, -1.0, False, (2, 1)], [(2, 1), 0, -1.0, False, (1, 1)], [(1, 1), 0, -1.0, False, (0, 1)], [(0, 1), 2, -1.0, False, (1, 1)], [(1, 1), 0, -1.0, False, (0, 1)], [(0, 1), 0, -1.0, False, (0, 1)], [(0, 1), 2, -1.0, False, (1, 1)], [(1, 1), 2, -1.0, False, (2, 1)], [(2, 1), 0, -1.0, False, (1, 1)], [(1, 1), 2, -1.0, False, (2, 1)], [(2, 1), 1, -1.0, False, (2, 1)], [(2, 1), 0, -1.0, False, (1, 1)], [(1, 1), 2, -1.0, False, (2, 1)], [(2, 1), 1, -1.0, False, (2, 1)], [(2, 1), 3, -1.0, False, (2, 1)], [(2, 1), 1, -1.0, False, (2, 1)], [(2, 1), 2, -1.0, False, (3, 1)], [(3, 1), 3, -1.0, False, (3, 1)], [(3, 1), 0, -1.0, False, (2, 1)], [(2, 1), 1, -1.0, False, (2, 1)], [(2, 1), 1, -1.0, False, (2, 1)], [(2, 1), 1, -1.0, False, (2, 1)], [(2, 1), 2, -1.0, False, (3, 1)], [(3, 1), 0, -1.0, False, (2, 1)], [(2, 1), 3, -1.0, False, (2, 1)], [(2, 1), 1, -1.0, False, (2, 1)], [(2, 1), 1, -1.0, False, (2, 1)], [(2, 1), 1, -1.0, False, (2, 1)], [(2, 1), 0, -1.0, False, (1, 1)], [(1, 1), 1, -1.0, False, (1, 1)], [(1, 1), 0, -1.0, False, (0, 1)], [(0, 1), 1, -1.0, False, (0, 2)], [(0, 2), 3, -1.0, False, (0, 1)], [(0, 1), 1, -1.0, False, (0, 2)], [(0, 2), 3, -1.0, False, (0, 1)], [(0, 1), 3, -1.0, False, (0, 0)], [(0, 0), 0, -1.0, False, (0, 0)], [(0, 0), 0, -1.0, False, (0, 0)], [(0, 0), 1, -1.0, False, (0, 1)], [(0, 1), 3, -1.0, False, (0, 0)], [(0, 0), 0, -1.0, False, (0, 0)], [(0, 0), 2, -1.0, False, (1, 0)], [(1, 0), 3, -1.0, False, (1, 0)], [(1, 0), 0, -1.0, False, (0, 0)], [(0, 0), 0, -1.0, False, (0, 0)], [(0, 0), 2, -1.0, False, (1, 0)], [(1, 0), 2, -1.0, False, (2, 0)], [(2, 0), 2, -1.0, False, (3, 0)], [(3, 0), 3, -1.0, False, (3, 0)], [(3, 0), 0, -1.0, False, (2, 0)], [(2, 0), 2, -1.0, False, (3, 0)], [(3, 0), 3, -1.0, False, (3, 0)], [(3, 0), 1, -1.0, False, (3, 0)], [(3, 0), 3, -1.0, False, (3, 0)], [(3, 0), 3, -1.0, False, (3, 0)], [(3, 0), 2, -1.0, False, (4, 0)], [(4, 0), 3, -1.0, False, (4, 0)], [(4, 0), 3, -1.0, False, (4, 0)], [(4, 0), 3, -1.0, False, (4, 0)], [(4, 0), 3, -1.0, False, (4, 0)], [(4, 0), 0, -1.0, False, (3, 0)], [(3, 0), 1, -1.0, False, (3, 0)], [(3, 0), 0, -1.0, False, (2, 0)], [(2, 0), 2, -1.0, False, (3, 0)], [(3, 0), 3, -1.0, False, (3, 0)], [(3, 0), 1, -1.0, False, (3, 0)], [(3, 0), 0, -1.0, False, (2, 0)], [(2, 0), 2, -1.0, False, (3, 0)], [(3, 0), 3, -1.0, False, (3, 0)], [(3, 0), 1, -1.0, False, (3, 0)], [(3, 0), 3, -1.0, False, (3, 0)], [(3, 0), 3, -1.0, False, (3, 0)], [(3, 0), 1, -1.0, False, (3, 0)], [(3, 0), 2, -1.0, False, (4, 0)], [(4, 0), 1, -1.0, False, (4, 1)], [(4, 1), 1, -1.0, False, (4, 2)], [(4, 2), 3, -1.0, False, (4, 1)], [(4, 1), 1, -1.0, False, (4, 2)], [(4, 2), 2, -1.0, False, (4, 2)], [(4, 2), 0, -1.0, False, (3, 2)], [(3, 2), 3, -1.0, False, (3, 2)], [(3, 2), 1, -1.0, False, (3, 3)], [(3, 3), 0, -1.0, False, (3, 3)], [(3, 3), 2, -1.0, False, (4, 3)], [(4, 3), 2, -1.0, False, (4, 3)], [(4, 3), 1, -1.0, True, (4, 4)]]\n"
          ]
        }
      ],
      "source": [
        "env = Maze()\n",
        "state = env.reset()\n",
        "episode = []\n",
        "done = False\n",
        "while not done:\n",
        "    action = env.action_space.sample()\n",
        "    next_state, reward, done, extra_info = env.step(action)\n",
        "    episode.append([state, action, reward, done, next_state])\n",
        "    state = next_state\n",
        "env.close()\n",
        "\n",
        "print(f\"Congrats! You just generated your first episode:\\n{episode}\")"
      ]
    },
    {
      "cell_type": "markdown",
      "metadata": {
        "id": "nDpBTu8rkzBO"
      },
      "source": [
        "##### Rewards and returns\n",
        "\n",
        "A reward is numerical feedback that the environment generates when the agent takes an action *a* in a state *s*:\n",
        "\n",
        "\\begin{equation}\n",
        "    r = r(s, a)\n",
        "\\end{equation}\n",
        "\n",
        "Let's generate a reward from the environment:"
      ]
    },
    {
      "cell_type": "code",
      "execution_count": 15,
      "metadata": {
        "id": "4nv4JmpekzBO",
        "colab": {
          "base_uri": "https://localhost:8080/"
        },
        "outputId": "4e4d91c2-91b9-4d3e-a535-22a9da18d1a1"
      },
      "outputs": [
        {
          "output_type": "stream",
          "name": "stdout",
          "text": [
            "We achieved a reward of -1.0 by taking action 1 in state (0, 0)\n"
          ]
        }
      ],
      "source": [
        "env = Maze()\n",
        "state = env.reset()\n",
        "action = env.action_space.sample()\n",
        "_, reward, _, _ = env.step(action)\n",
        "print(f\"We achieved a reward of {reward} by taking action {action} in state {state}\")"
      ]
    },
    {
      "cell_type": "markdown",
      "metadata": {
        "id": "n3cUQup0kzBO"
      },
      "source": [
        "The return associated with a moment in time *t* is the sum (discounted) of rewards that the agent obtains from that moment. We are going to calculate $G_0$, that is, the return to the beginning of the episode:\n",
        "\n",
        "\\begin{equation}\n",
        "    G_0 = R_1 + \\gamma R_2 + \\gamma^2 R_3 + ... + \\gamma^{T-1} R_T\n",
        "\\end{equation}\n",
        "\n",
        "\n",
        "\n",
        "Let's assume that the discount factor $\\gamma = 0.99$:\n"
      ]
    },
    {
      "cell_type": "code",
      "execution_count": 16,
      "metadata": {
        "id": "sVHUd8lAkzBP",
        "colab": {
          "base_uri": "https://localhost:8080/"
        },
        "outputId": "1c5150b2-18d1-4757-a2f2-9a4dde350baa"
      },
      "outputs": [
        {
          "output_type": "stream",
          "name": "stdout",
          "text": [
            "It took us 650 moves to find the exit,\n",
            "    and each reward r(s,a)=-1, so the return amounts to -99.85449547872342\n"
          ]
        }
      ],
      "source": [
        "env = Maze()\n",
        "state = env.reset()\n",
        "done = False\n",
        "gamma = 0.99\n",
        "G_0 = 0\n",
        "t = 0\n",
        "while not done:\n",
        "    action = env.action_space.sample()\n",
        "    _, reward, done, _ = env.step(action)\n",
        "    G_0 += gamma ** t * reward\n",
        "    t += 1\n",
        "env.close()\n",
        "\n",
        "print(\n",
        "    f\"\"\"It took us {t} moves to find the exit,\n",
        "    and each reward r(s,a)=-1, so the return amounts to {G_0}\"\"\")"
      ]
    },
    {
      "cell_type": "markdown",
      "metadata": {
        "id": "k_-SzsKqkzBP"
      },
      "source": [
        "##### Policy\n",
        "\n",
        "A policy is a function $\\pi(a|s) \\in [0, 1]$ that gives the probability of an action given the current state. The function takes the state and action as inputs and returns a float in [0,1].\n",
        "\n",
        "Since in practice we will need to compute the probabilities of all actions, we will represent the policy as a function that takes the state as an argument and returns the probabilities associated with each of the actions. Thus, if the probabilities are:\n",
        "\n",
        "[0.5, 0.3, 0.1]\n",
        "\n",
        "we will understand that the action with index 0 has a 50% probability of being chosen, the one with index 1 has 30% and the one with index 2 has 10%.\n",
        "\n",
        "Let's code a policy function that chooses actions randomly:"
      ]
    },
    {
      "cell_type": "code",
      "execution_count": 17,
      "metadata": {
        "id": "ma5JmoBpkzBP"
      },
      "outputs": [],
      "source": [
        "def random_policy(state):\n",
        "    return np.array([0.25] * 4)"
      ]
    },
    {
      "cell_type": "markdown",
      "metadata": {
        "id": "OFo4dB1XkzBP"
      },
      "source": [
        "## Playing an episode with our random policy"
      ]
    },
    {
      "cell_type": "markdown",
      "metadata": {
        "id": "cyKI_99lkzBP"
      },
      "source": [
        "###### Create and reset the environment"
      ]
    },
    {
      "cell_type": "code",
      "execution_count": 18,
      "metadata": {
        "id": "fyvHJbbGkzBP"
      },
      "outputs": [],
      "source": [
        "env = Maze()\n",
        "state = env.reset()"
      ]
    },
    {
      "cell_type": "markdown",
      "metadata": {
        "id": "FMwqTWLvkzBP"
      },
      "source": [
        "Compute $p(a|s) \\ \\forall a \\in \\{0, 1, 2, 3\\}$"
      ]
    },
    {
      "cell_type": "code",
      "execution_count": 19,
      "metadata": {
        "id": "6FuAJ8cSkzBP"
      },
      "outputs": [],
      "source": [
        "action_probabilities = random_policy(state)"
      ]
    },
    {
      "cell_type": "code",
      "execution_count": 20,
      "metadata": {
        "id": "X1E0GbytkzBP",
        "colab": {
          "base_uri": "https://localhost:8080/",
          "height": 487
        },
        "outputId": "70c40fc1-9d8e-40b1-b070-b66d6df9785d"
      },
      "outputs": [
        {
          "output_type": "display_data",
          "data": {
            "text/plain": [
              "<Figure size 640x480 with 1 Axes>"
            ],
            "image/png": "[encoded data removed]"
          },
          "metadata": {}
        }
      ],
      "source": [
        "objects = ('Up', 'Right', 'Down', 'Left')\n",
        "y_pos = np.arange(len(objects))\n",
        "\n",
        "plt.bar(y_pos, action_probabilities, alpha=0.5)\n",
        "plt.xticks(y_pos, objects)\n",
        "plt.ylabel('P(a|s)')\n",
        "plt.title('Random Policy')\n",
        "plt.tight_layout()\n",
        "\n",
        "plt.show()"
      ]
    },
    {
      "cell_type": "markdown",
      "metadata": {
        "id": "0qoQVv-wkzBQ"
      },
      "source": [
        "##### Use the policy to play an episode (This cell has been updated, read below)\n",
        "\n",
        "\n",
        "Dear student, to keep the course content up to date, the code for displaying our policy facing the environment has been updated.\n",
        "This function works the same way as described in the video, the only difference\n",
        "is that now we save a screenshot of every state in the `frames` variable and then, we use the `display_video` function to turn those images into a video.\n",
        "\n",
        "<br>\n",
        "\n",
        "In any case, this is convenience code that is completely unrelated to Reinforcement Learning, so in the following notebooks, I'll just make it available to you in the first code cell (which you can just run and ignore, like you did this time). That way, you'll be able to focus on the important part.\n",
        "\n",
        "Cheers!\n",
        "\n",
        "\n",
        "\n"
      ]
    },
    {
      "cell_type": "code",
      "source": [
        "def test_agent(environment, policy):\n",
        "    frames = []\n",
        "    state = env.reset()\n",
        "    done = False\n",
        "    frames.append(env.render(mode=\"rgb_array\"))\n",
        "\n",
        "    while not done:\n",
        "        action_probs = policy(state)\n",
        "        action = np.random.choice(range(4), 1, p=action_probs)\n",
        "        next_state, reward, done, extra_info = env.step(action)\n",
        "        img = env.render(mode=\"rgb_array\")\n",
        "        frames.append(img)\n",
        "        state = next_state\n",
        "\n",
        "    return display_video(frames)\n",
        "\n",
        "\n",
        "test_agent(env, random_policy)"
      ],
      "metadata": {
        "id": "c54pyJpc2bq1",
        "colab": {
          "base_uri": "https://localhost:8080/",
          "height": 521
        },
        "outputId": "b879fdda-99c9-4232-822e-cee392825cf6"
      },
      "execution_count": 21,
      "outputs": [
        {
          "output_type": "execute_result",
          "data": {
            "text/plain": [
              "<IPython.core.display.HTML object>"
            ],
            "text/html": [
              "<video width=\"500\" height=\"500\" controls autoplay>\n",
              "  <source type=\"video/mp4\" src=\"data:video/mp4;base64,AAAAIGZ0eXBNNFYgAAACAE00ViBpc29taXNvMmF2YzEAAAAIZnJlZQAAg11tZGF0AAACrgYF//+q\n",
              "3EXpvebZSLeWLNgg2SPu73gyNjQgLSBjb3JlIDE2MyByMzA2MCA1ZGI2YWE2IC0gSC4yNjQvTVBF\n",
              "Ry00IEFWQyBjb2RlYyAtIENvcHlsZWZ0IDIwMDMtMjAyMSAtIGh0dHA6Ly93d3cudmlkZW9sYW4u\n",
              "b3JnL3gyNjQuaHRtbCAtIG9wdGlvbnM6IGNhYmFjPTEgcmVmPTMgZGVibG9jaz0xOjA6MCBhbmFs\n",
              "eXNlPTB4MzoweDExMyBtZT1oZXggc3VibWU9NyBwc3k9MSBwc3lfcmQ9MS4wMDowLjAwIG1peGVk\n",
              "X3JlZj0xIG1lX3JhbmdlPTE2IGNocm9tYV9tZT0xIHRyZWxsaXM9MSA4eDhkY3Q9MSBjcW09MCBk\n",
              "ZWFkem9uZT0yMSwxMSBmYXN0X3Bza2lwPTEgY2hyb21hX3FwX29mZnNldD0tMiB0aHJlYWRzPTMg\n",
              "bG9va2FoZWFkX3RocmVhZHM9MSBzbGljZWRfdGhyZWFkcz0wIG5yPTAgZGVjaW1hdGU9MSBpbnRl\n",
              "cmxhY2VkPTAgYmx1cmF5X2NvbXBhdD0wIGNvbnN0cmFpbmVkX2ludHJhPTAgYmZyYW1lcz0zIGJf\n",
              "cHlyYW1pZD0yIGJfYWRhcHQ9MSBiX2JpYXM9MCBkaXJlY3Q9MSB3ZWlnaHRiPTEgb3Blbl9nb3A9\n",
              "MCB3ZWlnaHRwPTIga2V5aW50PTI1MCBrZXlpbnRfbWluPTIwIHNjZW5lY3V0PTQwIGludHJhX3Jl\n",
              "ZnJlc2g9MCByY19sb29rYWhlYWQ9NDAgcmM9Y3JmIG1idHJlZT0xIGNyZj0yMy4wIHFjb21wPTAu\n",
              "NjAgcXBtaW49MCBxcG1heD02OSBxcHN0ZXA9NCBpcF9yYXRpbz0xLjQwIGFxPTE6MS4wMACAAAAF\n",
              "OGWIhACf2WdBBMcSgR79PWMxFJhtRQC+1MOxfqRffl+BIGYSpbn04L89reMR6l2wAAADAAADAECn\n",
              "OiagH/jHhnJs3HXkrrQfF5oa8HLd82/vrqnbi9C9vrFggyET+x4Q25j0yND/U4k9M1R0FXm6Lrv0\n",
              "aD/rR83P2BK20vKWX+HkwEbSz9RfrXptVXY+5G7HyoGY9chS34e75Txzfpq1RM27zE3s57b38aFj\n",
              "OwhgHj8mm2atPwNkg4hAwFSzpmNFm+tKbRv/lOAAAm43JrZDa0QCwtM94JXXFM2qwBKZnoWASi1O\n",
              "7PSeWvSSKl4NN9TC+hf+KmRJFgjINlLerUF/wGOVIP46zEbfTmDMz5PxKag4QcI13a5w41BH4u4/\n",
              "yWQAAAMDxrqgsqU2+tlF7vaDtRHXGYp9ePessE8YgLaOtgsBNjaxMRK59BnDQ4w+YdrBosX5JByk\n",
              "6V+Gc0mQgABO1byyeSpWt2PZkcRa+xjl571EE2y1NHvcXyNBf7l2kD0d8rB7EMZK0yaIbgRRBj6l\n",
              "kGMi2qTJv+A4WrMW3fO/0eDtAzFhKSyHyUjs9kFUPTbW6t8vM+ZB+UzoSt6kiTkqBv9fTUy0kF4t\n",
              "RuIyxYeq4PTrsfCiqosYAJUQRWbNdiy6ueVM6Y8tGKPZSFqcR2LYzb3TbhYFYNMniUkzkQzKIBKw\n",
              "YnSR5d4bVjtW6tB/xlyBs581RgzbxvDzbKwJxSPDpFG9N4c52Uqr+iLha6oWv5oX/XFk2Dx30ii+\n",
              "3B9TUr6WpVFkBnZmAdKPnOzwD21E7fNnHUEruAXD2nUYOrQjsN1o8N5sp5PeRVnruX39Z6z6UaOs\n",
              "vPVOSVV/iS0yYWJEaxaE4G1jhb8eIBdFOYYbQIZM7Ymu2hT9c+r14oplcpFpFuOLp7/8hknJBVgS\n",
              "0p4axDlIW7+mzX4FO7dRZGwqB8rZY3NE/DGDHLLT1ek2ayv/uC4VWI4XPFJpqUx5xDFG1hMpX94c\n",
              "i2t6/o6oblEoswN3m5ciCjmrAraE5NPDljeL/tS26NQjVNaxCRBKXRaXjE4vJVUsmY+h4iQ+VYoL\n",
              "BjGgs5XLjI7rhPG9xPB5DwVcLydQQIsuqmYpOvYZR0sdrdOOnK1JmUru6xFdCwnNgsxzDIOcwCwK\n",
              "6Y4QdY9J6kNbY1d/BmoL/LUrzwvUuyKyX5lu2ygBNEataL0QW/+GvU7qqxhctBPRwpp4xroKBY63\n",
              "mw4FMxxeAaakp5H4BRZz17Nj9m8AABFhCbhRavpof9qQcBmgImPuj+6P/Pnbk4T3eUv8dV8iO57B\n",
              "WM/fY0l45K2DWSM5cb67GJC6ZSt4tNewsDjB4a27B/MpauxUd1+32/2vATuNvCQQlDcWcUcR1iSi\n",
              "Wbn8Kiq4WdjES6TiMCAqG2S76FRn9tvDFHzrKaV7HTbaeWOzccikX7zF/Tr5+OsLt2I8HhnFQZ2+\n",
              "YwWdME2z4Fenn1qM/tqsvq5gySvPuKqnvTLP+BbuBs8yY/XnS9fHxcABd8uh0rGvO2o8e19KLjN/\n",
              "raIHh/L0Yek/YJcHx17FylM03gQTv8ODDyI5GfW1hy5vPj1iVefx53XAzzyZpJNyzW6kaXW0AQpP\n",
              "OsCznRHvGvqvkDqqx7tJbcMgezNQUXVrG1tC/J8IvZ7jNqSTk5pfheoZoadxUpcpGftS7bBFq9WJ\n",
              "I6amjPBwqBzMx+9Av+85SHwwal9/HE59/PIIFhow8Krpwlq0WPBtJpJisBkawhSRQhE0kk8IBSWD\n",
              "YTcBTPdXFZxJZdLrrRPpADIBmiPwYhXWEccAAAGZQZohbEn/ACGGSBuaN5jZgzprsXqpOMGbX7zL\n",
              "7Fv+629OpyiyyCWPsTjSwN+fx1RJ+IOvHrRdHFvcs0xbLylVIHOBpLfMmUWwnKwIojaGpD8sfG5K\n",
              "uiq2kv0MeSdrHeGdsKirT7oGm1OFSsW3Dj4ZcHKrGDtgCHn/z469Kwzh2eXpvXq00/i/qUDjuqgc\n",
              "Z13f0NPA0fSULM1K7gfpvDfG9vTui0Qfa7WIea/Zg2xTqJ8IFGnVnTO3ENAJTdQChYbQRn+N92UK\n",
              "2f2O6JROxXAptwtlL4ZUDh1r6SnMcFcQj17lksfSAG52A991h2R7dg7DJbRXBpYTJY168IvMFt1Q\n",
              "Q7TZHoVHb4kGg9rBIuAepPGxu5oJqt3qOkYyj+lDQoVYzUFMAhwtZb/d0xUNIEGUlFCgclsUqA2n\n",
              "oYiOhxxZNOV/km/ApunP3ZfxvGxprYH3VMRoLybM0/ZJ4GKxV5yJxL4S5TDrjCSzmWRPjDifp6OA\n",
              "aujDDTRkU7TeFZadMAD6RRkZBZ0LIAAAAwALc/CB0SqefLBUci6i7gAAAaRBmkM8IZMphJ8AIG0M\n",
              "Wn/0qCTVD6vbbRsWCjiAfqsmlVqzC1beZ/4CHqH9TYJudZGmxGV0x6QATW1mbwGW7LLxsfgO7jBO\n",
              "f7XTI4FcplbgwTDwuZDNOFG80JsrzJ21jD8UJUVXHmhrNmywZ4jC+WZ7OulzjI567Nzs9ehcNvZO\n",
              "6nVCgc5RYAhz/1921JSG/2wNaL6EHOf+8qkwRVLl3wOuIcXovEaCsn0I4U1z3xHcZH7o5vBelsI6\n",
              "lLbDMzn/XcX47+7r/M6KDveKeB9UrDHpCHD3o47o2zOKzCwqvxnPgj4xFOhVVoysYR9xkSAqgdAi\n",
              "PPqoNR/CACWSLLKzmczbTB3fXeMY1KQ0KAEZItlMjaak064RbPK6Mai81SehUYlSXR7dAaEX3a+v\n",
              "IGvrnpFU15ZxpeRvh1TQ4QCsEqE4CbilbBV3sqCsWEr9kBFn8JihvAfMTVl3Ys5VcNJuv9RvmNt8\n",
              "6/1o85ux4VCaKtNM0YfoWonvWJPvEaGbe6tMimznx4QHQ3l6p20OAtfzed2xZX1+e+xPRHPpXAv5\n",
              "Ma0tVJAABqUAAAAlAZ5iakLfNmAAmBwhFRHN+kQGRahLZeHo+5YVO0ezmB7UAAAcsAAAAD1BmmRJ\n",
              "4Q8mUwJPACBtDFqHRXlWWMv4cqIm4v9qiWCGA0ieZGLq80AAEvfvz1vn8dEapZWTQ2gO+KI+AAIX\n",
              "AAAAP0GahUnhDyZTAk8AIG0MWol2yQKfwaM5AMy78Gz628XaGGevsMFpIGigTYAAj5wMvZAHupH8\n",
              "eeDCazWYoAANSQAAAaBBmqdJ4Q8mUwURPJ8AH/mz23DETQ4r1x2pfmuSqWmbbLRw+z0Nek0zfz2v\n",
              "/8Fyick1tBM/kKQSXfNl0JZAyIOQgunhdDdRPmSErBoW70/aEre20pVGte9KdYDw79Q5w0euzsbB\n",
              "WZodOOXrYjkFHLMlDn8JIAVkJVefFAIMll4V0vfYz+6h5YhIF7w4JjjlHCSRPdp5zOitkaUXFDX5\n",
              "QdlA+PgK9d0+Zyplz4XumUsSkKp/203HCAMu2gXO1BE9ANDC+xQ9eknriQ1itqirADi6Yzdv1bZJ\n",
              "ggNcEPXnAaOs0lYIWPfPCatnKPwwQHLc72EgZxir2G27hkJM+FCTqxn5xPJqyp+V20VOBoU6lmZ/\n",
              "bIdZv+zF4c8P6nnTkr6ehvb/Qr4uTqawjWltGXpskvgkdWaxWDV7x5cRKZjolqGOhnsVw5hw/IhR\n",
              "QrFVnvEkRU6CZ8fTOJOwryJiNNl8X27TsstGsEXKiakeP5XbweKwCs/G1CUgmMHqV7vE8LPBhOKU\n",
              "e539ZQebEmGiCCCQIIr+3IPqihGgYGZK7BIJoLAEzQAAACQBnsZqQt8CHXfFj2ZCD3SMGl8J0E+k\n",
              "tNe8UDPqNDMfnwAAOOEAAAAxQZrISeEPJlMCTwAAGwJBjHfoAAKuJR3Br2Y//2exEa6Xp7R0C07m\n",
              "3ajdUBonL+oBWwAAAEBBmulJ4Q8mUwJPAAAbAkR9tXnRuYNksmOI8diZ80+zWAllL8o604X0aOhI\n",
              "cwLurrmdAQseR1yDc7T/LpooIBlQAAAAkkGbDUnhDyZTAk8AABsDf5Ke6SUAHg7b29f5BqsEFkCE\n",
              "xFJYsRkmPcCzbT0U4BEHAznunB/Hxsw3EKAl8mQsqlt/7a68msWQV/9iLWaUUFGY3PSg6SmlUFqj\n",
              "h2Gfn+nPSFoZXSgO9MSn2jLOgEzJMWJmEB6cYFDVqZ7AGlb+XUS/FHxYmd5jJcay1y/Nj7aoAD5h\n",
              "AAAAJEGfK0URPCX/AebzcIUnKQRWUMjtSWuvvHOulim9CBvsAABnwAAAACMBn0p0Qt8A7JaOd+Fa\n",
              "r8uhNV38e3fCeR64PDkDdHdKAABUwAAAABQBn0xqQt8A6maOi0GWjcgoAAA2YQAAABhBm1FJqEFo\n",
              "mUwJPwAAG+/y32BAfIgAAekAAAAWQZ9vRREsJf8B5vNwhSdPQQSQAAAHhQAAABQBn450Qt8A7JaO\n",
              "d6HJhIsgAAAq4AAAABQBn5BqQt8A6maOi0GWjcgoAAA2YAAAAX9Bm5RJqEFsmUwJPwATanX6qTjB\n",
              "m1+8y+xb/utvTrOohTpNHB0yVmBvz+OqJPxB149aLo4t7lmmLZeUqpA5wNJb5kyi2E5X7cICc2pD\n",
              "8sfG5Kuiq2kwIDJedDX0BbYVFWn3QNNqcKlYtuHHwy4OVWMHylePAsngab16tNP4v6lA47qoHGdd\n",
              "39DTwNH0lCzNHysD9N4b43t6d08ppDYYSMR9Ifqt7OMk+ECjTqzpnbiGgEpuoBQsNoIz/G+8pjfB\n",
              "8+f/uFspfDKgcOtfSU5jgriEevcthGpGigP9Av9+d22btuwdhktorg0sJksa9eEXu6KpryT0Kjt8\n",
              "SDQe1gkXAPUnjXK800VW5YdIxlH9KGhQqxmoKYBDhay3+7pikatoU74F+q5LYpUBtPQxEdDjiyac\n",
              "r/DF+zwvWlttoi81YIJgfdUxGgvJszT9kngYrFXnInEvhLlMOuMGlpMqefGHE/T0cA1nzPkws2OO\n",
              "UyPeECiZ6TdZsZg1x4jBAIilwABCwQAAAC5Bn7JFFSwp/zUPqnNZy4Hd4vPwy1rCGvyAPnxX7uTg\n",
              "zFf4YkK7tNE4AAADAMWAAAAAGwGf02pC3zWtToXPS8tQierVzjKSGuzgAAAG9AAAAYZBm9ZJqEFs\n",
              "mUwUTJ8AHzwIaBR/gqEKuwuX06Kp1lHscLyoGLPlSBPr+pKsmbxhvQV/5YfiD5bEXH3f+caIv87x\n",
              "Qe2YePqiPRfYFCtE35TEiWSFCOj3WAxdwSIEo9Ia8x7zTjbVK0kVRS4R5Daocyp501yVoY4/fDGK\n",
              "UMWcsAe6Gw4idNMFbgE27oxHrv1XXXy3OWnyfFC1Uh6w1PFsqbuB+m0Sop+ogM3jDgYv/8Xm+BkT\n",
              "Erl/VAgBDOslGeWTsYXO51pebAxakBVLzgst0/1yvjroJvc4kArQLNXru49AgK6mYSibPcm5LHzB\n",
              "JVOsu2oOYbuEmFphAs3tnXk3Fd0JGe6sub7txTPleKFCx78DOjZEZyBd2PQmLsJVVoSeIXnirV5b\n",
              "KGrYOi/Iqxe2PKOX8EepWkuasdZ+JcBsuPDlcH8PM/PaD2k4ThoMxkeB9GXWVj8Y1c2paJ5xMYJ0\n",
              "bs3eUFBZJ1F533G2w2cxHdHe1NOCNDkdE5uPWcEwAAdzGbAkAAADAxcAAAAlAZ/1akLfPpyQL0Ig\n",
              "u8QFPQ5Up7kXKwSASetta18kqAAAAwCtgAAAAEBBm/dJ4QpSZTAk/wAd1wXpnYDwgcWdu0OUN0AP\n",
              "GDTeoJ3FKclhxJ09VJPYdB3BMFTgKWmT4AHeR3zBD9QAAAqZAAABwEGaG0nhDomUwJP/ABOeAvTO\n",
              "nZDhzJ3+uygtLPJCDb00GRF3uow7vrmXw6if78rUaK/jhsAwwLeqDeS3NohbFcR9BAEOLBYBg3xh\n",
              "fpFZlAVQg4o146eW5sEZeGFzbcQLXH/OOb+GgSDcIOBnGri28zpDceUprAg42cFdFDnrXHn1YstV\n",
              "B1A+NxGP9hF+QOHUNvPJCTzw7YhtZpy5itc5gBlRxquxGquPPY9W4oB4fRgZGWQjATAQ8b60oEQP\n",
              "NqHvoiRkaN4FTWoA0+N6W/G/Ecc8MX0vCsi4B2mfnrGiZygC3qSBw0NGbRU6cGjxofTvBqoAAKdy\n",
              "2l1lal7R+NTMBYJxhBxZ98vUROSL1fkVbbr6bcUCYU+kRDG4OdaZ38u65x06IQ/XTpIhpTqwgB+l\n",
              "gZ3tG38klfwwmqqawu33hE1vK7tfvorI/1H38FeeQ654rVXuZdGlYSOEpSSjUOL70WzUtZmNjV35\n",
              "NEu4YBZ2MQsiRuJcDdYrjrqeEk9yUw0/T5WZ31uqVePtCLKuGbSvSM0MZ7FaHSmY2aIz/YjVIYwL\n",
              "yh2HqVcMJhYw0sK6J2fwAN9jVyEgfcjkU9AQAAADAr8AAAAyQZ45RRE8Jf80kxTACkC090l3P6mP\n",
              "fDhqvZcR24OQGDvQUorLAEiVyhSIrYn2AAADAP8AAAAlAZ5YdELfORjIAGLEk6A7ZPZPKPLYHsjp\n",
              "Hw4UAqk7sAAAAwBLwQAAAB0BnlpqQt85oU0+qGud7IQIy321he2K7AAAAwACBgAAAYxBml1JqEFo\n",
              "mUwU8n8ADp/xVro9YsTyTGLgOTlVJ7gcvnOR6FzXpfzWupwDqW5s66xo7nePBsE1YpdwlQ1F9Emx\n",
              "1fAKgRN+N6BJi4Jt9qBLRoZDSfYGsXZVkbj/aBargIt5rAlqODjy8iLxinHuf/JbOuQdry5/bnAH\n",
              "GDetsHbpKKCv91EqLJ6wSUniwB6+caYaJx97apA1D2cabIG1R11m3a9yTNcysIZogSex6uG83kAF\n",
              "wzk6U303xZ7T4scm506RvJAUxcMhEtjLI2K7GvlJ8DcO5/38VQAAzThDs69OrufCTemZRAlBSroq\n",
              "RyfjEhtkXSAUCyJXQ9YeV0bUOip+58AcfKb/iImWQAOfC20Ru5nMeC6gpO7Zrn5VQKKtXuL8jXXp\n",
              "efDT9ntUlE7nox2iRBFQEIanWF/ahSfbcF/ipWfL1q0qpqOPdyfoCp00NMPSBjzJQPBBTLy65SZk\n",
              "8XNAnu7WFwjTxzxmWuXDtnYYPg8Brrm4ZAH7dpX+hxH3yTjrEfwUdHwAAAMAfcEAAAAoAZ58akLf\n",
              "Oee6BdC/VAHCH8IxDfn4pu7F/H3axtnQg9wqzwAAAwA7oQAAAEFBmn9J4QpSZTBSyf8ADa8pu5C2\n",
              "UAKk33LCBSymY3+xwWgrDlsQGJUe2ySoTtujkE2PDNRN+kN4zBG0spwAAAMDZgAAACEBnp5qQt8v\n",
              "eIBG7fYS52bECJR4jItr6QmrQoAAAAMAxYAAAAF8QZqASeEOiZTAk/8AE2p1+qk4wZtfvMvsW/7r\n",
              "b06zqIU6TRwdMlZgb8/jqiT8QdePWi6OLe5Zpi2XlKqQOcDSW+ZMothOV+3CAnNqQ/LHxuSroqtp\n",
              "MCAyXnQ19AW2FRVsWXK1qcKlYtuHHwy4OVWMIv00JvLTF7gbOuV+VvXq00/bPKMDjuqgcZ13f0NP\n",
              "A0fSULMzPBAc5PP96K9h/DVNnlynXEc4WcG2KdRPhAo1BLYisXI0AlN1AKFhtBGf4338VKSvxGbF\n",
              "DGcq3JoBbKXwyoHDpdYwQu4K4hHr3LGKU/BmCdh+/O7bN23YOw4dNVwaWEyWNevCKSBkkb/HTQBe\n",
              "hUdviczMIerNWohRQtE8wqFtrs0dIxeIFNwn7O3gE2uc5wtZb/d0xT270wFNaFA5LYpUBtPQxEcV\n",
              "5tBMl1/lK/BQ1aS220ReasEEwPuqYjQXtBcpvjFi4rFXnInEvhLlMOuMIra7CWfGHE/T0cA1sAAU\n",
              "DHs7eS0amIAAAZ8AAAAzQZqjSeEPJlMCTwATngMXuqyIQgCwYlgqfwT5tAZTUsanKhXP6jZwq2pk\n",
              "/OFSuzAAAAZ8AAAAIUGewUURPCn/NQABTIF9OtQjhW5tomrrrKHUDAAAAwAOmQAAABIBnuJqQt8v\n",
              "seXd6rAAAAMABSQAAABCQZrkSahBaJlMCT8AE6Ze6KHkN/tAavUaTsWcSJFpJThzMQ35DdYW8U4g\n",
              "P6gKJRIkf9n5zPdxAWdtYjN1UAAAAwKnAAABhkGbBknhClJlMFESyf8AHzwIaBR/gqEKuwuX06Kp\n",
              "1lHscLyoGLPlSBPr+pKsmbxhvQV/5YfiD5bEXH3f+caIv87xQe2YePqiPRfXpoJOQnlGZZIUI6Pd\n",
              "YDBR0wnID39oaNyIRCDo1zailwjyu3O1tC0m8ejEhMTIUkbotrVscwNsFzsJgrcAm3dGI9eU6T3l\n",
              "rGSu8TGbOOZftrz1gHoegUPOU1YFI+hLeaGMahciW+BkTExeFW+65+dbnM/PggBOOi0Q9uUdjICq\n",
              "YInRgDqBxB+fKjek5EgFaBZq9d3HtfRrxAGWzkFvrrzksNYpuZWxcscEGDYYqVHyJEsRDSXt+Anu\n",
              "rLm+7cU0GdCZMYSvgZ8B0jOQLux6ExdhLDNk0rLnSlvn5S7VU3YC+RVi9seUcv4I9StJc7lXRGC8\n",
              "DZcQlYFnZmkCMXeDFn+mszGR4H0ZdZWPxiAC6CqsMa+gnRuzd5QUFknUXnfcbbbj4KxW0r0R9dbj\n",
              "N7rSvLU4JAAAmsEKrAAAAwDFgQAAACUBnyVqQt8+nJAvQiG7AFLLApX4FCYowwk3QiZN8oz4AAAD\n",
              "AAOnAAABdEGbJ0nhDomUwJP/AB3ao5cBvjWZKxSg+e14LiFVBn7dl3/VqaCrVJSiJI76DhyNJ57m\n",
              "8UkwqR+IxxEeajhpwQaRcsaCsY5iCf+NF3PWTxXplY1C5CKb691p+MDot0LNaIYCAZk5m1/IAk3W\n",
              "VXGxzhjpMrayzv8mCKmzJPf6qiRbNOlYuX8ZbDhIwgtMtIuNT0KpIBqB2doVz3JNalE0/N0kLV1X\n",
              "2cmm0XREA1/vAiOKehg4vvLrxdWTLB1mSP5+w2Uerf7PVOY/N5CxVBU7u+RqK+NBSt6dLAijbQeI\n",
              "qssNSnq1V25tTcsJN/2dd0lEqM2tikYFno0qVxdlexAsl/Q95hFdUOhVcGBO1jSDEjeOTQU0yCUo\n",
              "MyKgo4Eo96wdYZ80HNu1D2bwnVhiALGbkICE4hIzNVv0lgdDjjwWAp6irRDl+4AAOQVPsmD6h33r\n",
              "xip2C84i+OcR2xFTdWTySrQqRtTrc7xQoz7futThJVOMGAAF3QAAADZBm0hJ4Q8mUwJPAB3XPO/Q\n",
              "zA6A037hfejHabd7li99YGfzd73jhN234WDLDuEF7sqaXGAAEvAAAAA4QZtpSeEPJlMCTwAd1wXp\n",
              "feO1WDnF6LBGOliZ+8JheVgfmU33C8KqLrh68c3qH66Y1KWGCCQABAwAAAAxQZuMSeEPJlMCTwAd\n",
              "10T4kAtc7RL36Dr8JWoBYmfz2P3zLS5XsIxg2hKAcaOj8AAJeQAAACtBn6pFETwp/z0ZTZ7jdkC8\n",
              "6nIhYbiBKYxj1wVSOCcBnQ7icSqAAAADAB+QAAAAFgGfy2pC3z23tc2oXXLLsvAveoAAArYAAAA2\n",
              "QZvOSahBaJlMFPJ/AB8/ynRbTXqadopA66RrmxLArvzYtvoBhZM3t40VaBO6kd5A59+GAAF3AAAA\n",
              "IwGf7WpC3z6ACDaD4kNxnR9U/1aNTmT5W2/EGRTFAAADAD0hAAAAL0Gb8knhClJlMCT/AB3XTU5I\n",
              "gAABXB+eEtOBTWfzd74PFsik4niBZJ3stKV0AAGzAAAAO0GeEEU0TCX/OONr1IeQUlzr/pPmPmX4\n",
              "18MsjqFDmGGdTJCuc1dfQ9n3b/jlE4NN/TynxBSWAAADAJmAAAAAGwGeL3RC3z6IwGAn3RbFwa4Q\n",
              "A8Tnd8uAAAALaAAAABUBnjFqQt88XbIO569Gn4DR5AAACTkAAAF3QZozSahBaJlMCT8AHz/Kc6og\n",
              "R0hlhy1nGDNr95l9i3/dbenUzRZZBLH149X4G/P46ok/EHXj1ouji3uWaYtl5SqkDnA0lvmTKLYT\n",
              "lXZTM/TD0eWPjclXRVbSX4+PJO1jlDO2FRVp90DTanCpWLbhx8MuDlVjB2p3nLjB7ZY8Ozzk969W\n",
              "mn8X9Sgcd1UDjOu7+hp4Gj6ShZmUXcD9N4b43t6d0cKf9HaxDzbA7ZOzjJPhAo06s6Z24hoBKbqA\n",
              "ULDaCM/xvueAAN/ASLmPRmgFspfDKgcOtfSU5jgriEevcsoSI8vUSLXj3WHZHt2DsMltFcGlhMlj\n",
              "XrwiKC6tdyZpiT0Kjt8SDQe1gkXAPUnjY8c0E1W7NHSMZR/ShoUKsZqCmAQ4Wst/u6YqMrCDOnWh\n",
              "QOS2KVAbT0MRHQ44smnK/zOfaPtMYrTaIvNWCCYH3VMRoLybM0/ZJ4GKxV5yJxL4S5TDrjCQxuWS\n",
              "z4w4n6ejgGtDHYAAACkgAAABnEGaVknhClJlMCT/ABOeAxe6rFaJR9HNpwqaBKa62K/zW7jQV/xE\n",
              "TUP6mwTc6yNNiMrpj0gAnlAsqMuQ08yJQA53cYJz/a6ZHAsMErcGCMOFzIiIopnqiY83+XnrRTXi\n",
              "hKchVeBvygBm2H31QkG2zrpdHN5+WzYbPXoXDb2TuCCcZ8mAqfbJjiDSf0lIb/bA1ow4Qc5z7yqT\n",
              "BFZAzVCEPts2dkCrXP8cKa575CJ3dlmc3gvS2EdSltuGX4A+ML8d/d1/mdiv7tV93xAxGj0hDh70\n",
              "cd615nFSjzBCN1jPSXxqA0ScByjcdLY4q1BlilH9tccCXkkwllt9uch7GrDsY1KQ1QsAZ9Nk3G09\n",
              "1LVZ8sWQkRqLzVr6v6XCBc+BFjhi/jQ7ECPOuekVTYC4P/ZFDmqaHCAVglQnATcUrYKu9k/7PEPq\n",
              "v4KZb5ccBYD5iasu7Fmbn70jkLSXi+gpwVVwUbEX50oigzTTNGJmefoU99nu7lIQ2NmmOzZz48ID\n",
              "oby9U7bE6aFVKkR+2I84nA4nojqET6X8mNaWqpwAAsoAAAAtQZ50RTRMKf81AADjt4dDnMNVs5p+\n",
              "K8749tdrdf4pVX3FElop7VZoZ1UAAAh5AAAAFwGelWpC3wDqZo6LeaFmRWzEaCAAAFbAAAAAQUGa\n",
              "l0moQWiZTAk/ABOmXuih4fJ8kA4nUUDqLwN8yCEhFMXaMbtKS+ICztrEZqP7rvu5TTVd8zmXAnwF\n",
              "uHdOAAFlAAABhkGauUnhClJlMFESyf8AHzwIaBR/gqEKuwuX06Kp1lHscLyoGLPlSBPr+pKsmbxh\n",
              "vQV/5YfiD5bEXH3f+caIv87xQe2YePqiPRfYFCtE35TEiWSFCOj3WAxdwSIEo9Ia8x7zTjbVK0kV\n",
              "RS4R5Daocyp501yVoY4/fC/LWC+3bHMDbBY7CYK3AJt3RiPXfquuvluctPk+KFqpD1hqeLZgDIDn\n",
              "Js5GjCRAZvOT846gCM6ihODqsozasQAhnWSjPz4HpLzudaXmwMWpAVS84LMjYNQCbPlRfSciQCtA\n",
              "s1eu7j0CArqZhKJs9ya7n6MJ6qdZdtQcw3cJMLTCBZvbOuu+e7oSM91Zc33bimfK8NAGCr4GdOyI\n",
              "zkC7sehMXYSqrQk8QvPFWry2UNQJCl+RPa9seUcv4I9StJc1Y6z8S4DZceHK4P4eZ+e0HqBVnDbZ\n",
              "jI8D6MusrH4xq5tSu2GNrQTo3Zu8oKCyTqLzvuNths5iO6O9qacEaHI6Jzces4JAAAzDDHKoAAAV\n",
              "sQAAACQBnthqQt8+nJAvQiC7xAU9DlSnuRcrBHVNTmCKCRAAAAMAG9AAAAF1QZrdSeEOiZTAk/8A\n",
              "HdcF6X3jtVg5xussJRscBwjZn5s32HFDatWqSlESR30HDkbChgjJHxb1hf4tc761SO1oo0i5Y0FY\n",
              "xzEE/8aLuesnksfebJtyEU317rT8YHRboWaekwKQzJzNr+QBJusquNjnDHSZV/8nf5MEVNmSe/1V\n",
              "Ei2adKxcv4y2HCRhBaZaRcann36QDUDs7QrnuSSmmU0/N6ELV1X2cmm0XREA1/vAiOKehg4vvLrx\n",
              "dWIrB2q3uD9hso9W/2eqcx+byFiqCp3dyGCgUqKCcgTIoRRtn/IIjG/4zDDWcG4wd/XVfrOu6SiV\n",
              "GbWxSMCygaVK4u30KQLJf0PeYRXVDoVXBgTtY0gxI07nUFNMglKDMioKOBKPesHPDfcGft2oezeE\n",
              "6sMQBYzchAQnEJGZqt+ksDocceCwFPQIx5737gAA5BU+yYPqHfevGKnYLziL45xHPsc7IR9pKtCp\n",
              "G1OtzvFCjPt+61OElU4wYAAXcQAAAFVBnvtFFTwl/zjgBDycR1Wi3jQ/ThFTFIQvRtFwBn2/OwGt\n",
              "Y5heYk4TnWq6Go0AFjllNw8JExBlogoRAkHcbN97AsCmJtX8B/cK0dd9tc4WXjAAALaAAAAAIwGf\n",
              "GnRC3z6AAD1G/w1rTIenawjLL++h6dg+69TQkTsAACThAAAAHwGfHGpC3zmdedQ8NUjQgFLJle9z\n",
              "gCG7GCZ0AAADAysAAAGdQZseSahBaJlMCT8AACA/7CfJLpqdQfw302zJb+dosOvMlafYIV/xKjA5\n",
              "XnBM357uvtcZ9nQkXyWCV55oYeDbaPXMpUO5FUkB3u2vzfv447FmNNBlGFa5ATuqEDDY16lAGJLQ\n",
              "iKT3Pvk76NoN/+y3nsq/EscSZQ2FcjTA3YKy1CW+OeuONS3h2OuTYMJZxgxVWdSzNqLiFs8QUmh4\n",
              "DWv2GzUKdCn8aFU97p6/fg67y8MbRugqU7zCASqrXMvf7m5fwH3xjlRla5KkFyCa4NWLrhmJXp9p\n",
              "34+k6Zb1WJ9q9B0QWr4Vfr2w1KX5yUXTpGSqoq3HpsseCo6t/PjinNgO1nSu6qT8PjeIIh0iRgx/\n",
              "kHAIjsnNiD/ZP7YyUoRM+5xPrXaZGbo2DOcQOpzpN69JDKFQqBqYxcVSXhVwziezdNGa9h9hVIS2\n",
              "/EbTv4tbfHPR6u/zMhOfF27ZK8J96xEJCC+RF2fAhwsufnS+eQIPLhMC9SuHDyj2K+FcHuSJ5Xac\n",
              "z+A9xYW/ZACXY6UhfKsVTf2cX7HgSXSTZQUALaAAAAGUQZsgSeEKUmUwURLJ/wAAAwA6n+U6Llo5\n",
              "aFbNAOXxCydk7Ilr90cV7727+MEJueyjo4qyYn0+hcriVN6zzZIVWNzJJLaqtS3XdIGj9IboDc1r\n",
              "VBE3C3cnQC7wqR+14uMQDKTXDdILEfxxEU38YtV1TIR5BtWt4HpsdLyKIEE2q8ppR9STYtNJbO20\n",
              "neWhf/rga4d1ln/rjJvrtt7lW4ZeORI8ESMYyqvV0haIep4XjJy07Thqo/1C3gqdSGVGzuoCQ1l1\n",
              "L0Z81YNnkMJNcJkPkv2YbX2yZ/+n5Yzs5tuU0Snv/6/78RFYClUVfeEc8nENBLC2jlEw9sEhUrkv\n",
              "iXePYcf38q3GHgsmKBM3+XXbsYPdLdqpHub0TQkcawL3KJXneCkM1s/xZYYsjlzRlRe6VM/VeMot\n",
              "eC468rgIEPOWpPcLDjcDaJIbHVN0opJPLzL8hR0pvt6C/z8p4FyyCZeVMinKxMZMyvkHrShm+o/7\n",
              "oywnu/WKh/U7h40Q/4qCWuj2PrfIhJVjXjEZDff7qMRcAR/QVQQAAAAoAZ9fakLfAh13zEhgHU3N\n",
              "k5El+8gkelVGskQhyFAT2E1sLlboIhsDjwAAAEJBm0JJ4Q6JlMFEyf8AAAMAOemw5CjJoZpiy/Gc\n",
              "BqpI055HUQEUuotptlBUuhEMpOFilXy2HObcAClxaRVDwUAxGpAAAAAjAZ9hakLfAh13zEhgHZL5\n",
              "5Gr2kW4J20VQc0TK0CZY5PD0LKEAAAF+QZtkSeEPJlMFPJ8AAB+k2v1amgq1SUoiSO+g4cjfCstn\n",
              "pKLesL/FrnfWqR2tFGkXLGgrGOYgn/jRdz1k8zcIL6OEOQim+vdafjA6LdC5Gy7JuszJzNr+QBJu\n",
              "squNjnDHSZ9W5Nz8FFLMame/1VEi2PS1i5fxlsOEjCC0y0i41PX5kgGoHZ2e4dQ/kpsITl8Ynm2k\n",
              "0GpAY6HCSU5rS4weiJ6GDi+8uvF12ZAREx4vB+w2Uerf7PVxWxEc0KnCxIax9mycFKignIEyKEUb\n",
              "aHMDVbxWearVXbm1Nywk3/Z13S4ybDFiIGYIYAcsz6PXUaQLUvAvXaTdVDoVXBgTtY0gxJOtzi6Z\n",
              "3+96E9XoKOBKPesGVx929n7dqHs3hOzSRlMW4kICE4hIzNVv0lgdDjjwWAqC2jEsvfuAADkFT7Jg\n",
              "9+eokQsVOwXnEXxziMyIqbr5NpKtCpG1OtzvFCjglmcyXgvjfTBkj8iIHhmlCA5PQueQrqyhGXjn\n",
              "PfXJjLRjQAAAACcBn4NqQt8CHXfMSG+3dk2j9pyF6CAa0HeBZRi3QoJcB4fmwgAA9IEAAAA5QZuG\n",
              "SeEPJlMFPJ8AACA/7Cd6gEGefAofJjVd9ScsCDHvhNbZt4/N3NOgADtIqsBCyBaGgAxcwBbRAAAA\n",
              "IAGfpWpC3wIdd8xIb7d2b/gCeB0fwXjA7Wv1DaNgYAEvAAAAPkGbp0nhDyZTAk8AAB/JQWvFgDPE\n",
              "KA0V7SPYzIakDK+I9k7MPN9iSIeY9JtBjuV1A42ipXZtf51qX2ulQrjRAAAANkGbyUnhDyZTBRE8\n",
              "nwAAID/sJ8nZ/clwpXHt/rDwbHZeZuKXoGPSQBJQXGGwDTITO3oCuTgCkgAAACEBn+hqQt8CHXfM\n",
              "SG+3deW8JBA53nukDxJ+TnmjOgAADAgAAAAxQZvqSeEPJlMCTwAAH8hh+l5AAJULv0hOIkYRESRy\n",
              "ZBdafp+Wlkh/R+xyckI3aEAMWQAAADJBmgtJ4Q8mUwJPAAAgP+wnydn9wExALYXklTIq2MM+d6Bj\n",
              "0kASUFxh40Xd2gAxc4ApIAAAADBBmixJ4Q8mUwJPAAAfyGH6XkAAlQu/RjkN9B7Jh2CytTzoFV6Z\n",
              "V6QVNM3AmrQgBiwAAAF+QZpNSeEPJlMCTwAfPAhoFH+CoQq7C5fToqnWUexwvKgYs+VIE+v6kqyZ\n",
              "vGG9BX/lh+IPlsRcfd/5xoi/zvFB7Zh4+qI9F9emgk5CeUZlkhQjo91gMFHTCcgPf2ho3IhEIOjX\n",
              "NqKXCPK7c7W0LSbx6MSExMg2fyNQd3JH6KdJqM0Yj15TpPeWsZK7xMZs45l+2vPWAfx6BQ85TVgU\n",
              "j6EvWZ2EqaXkntgFDr49FW+65+dbnNDUBoxdui0Q9uUdjICqYInRaJTGp6TkSAVoFmr13ce19GvE\n",
              "AZbOQW/xKeDXdeGnWXbUHMN3CTC02xsIkSwKr17xuE91Zc33bimgzovlPnDdv2cgXdj0Ji7CWGbJ\n",
              "pWXOlLfPyl2r/YGtpT+D2x5Ry/gj1K0lzuVdEYLwNlxCVgWdmaQIxd2JHpBRJmMjwPoy6ysfjEAF\n",
              "0DsPFkowOs0tT8oKCyTqLzvuNttx8FYraV6I+utxm91pXlqcF9XxsP3ckgAIkAUhHK0dAABswQAA\n",
              "AXhBmm5J4Q8mUwJPAB3ao5cBvj1VfF6qTjBm1+8y+xb/utvTqZvGsglj/8er8Dfn8dUSfiDrx60X\n",
              "Rxb3LNMWy8pVSBzgaS3zJlFsJyrwpmgBh6PLHxuSroqtpL8qHknaxiQK2FRVp90DTanCpWLbhx8M\n",
              "uDlVjB25AQ/OnuRhnDs8uDevVpp/F/UoHHdVA4zru/oaeBo+koWZlF3A/TeG+N7endG9y/R2sQ8y\n",
              "pABtinUT4QKNOrOmduIaASm6gFCw2gjP8b7tblqDE52UTcEZoBbKXwyoHDrX0lOY4K4hHr3LIe4o\n",
              "C/Eh9491h2R7dg7DJbRXBpYTJY168ImxN0d9xtayehUdviQaD2sEi4B6k8bGUdo64XZo6RjKP6UN\n",
              "ChVjNQUwCHC1lv93TFQYgQZja0KByWxSoDaehiI6HHFk05X+Zz7E9pjFabRF5qwQTA+6piNBeTZm\n",
              "n7JPAxWKvOROJfCXKYdcYRrqZZE+MOJ+no4BrQx2AAADAKSBAAAAOUGakEnhDyZTBRE8nwAd1zzv\n",
              "0h2EODhKvTPCGgIILa+BkyYpb1pGr+0nUXKI2lmgv7Y/4y1AAAA6oQAAACEBnq9qQt8+j7ZpAEmL\n",
              "jlS9ke0fdVEAPXUk7UAAAAMAMWAAAAA5QZqxSeEPJlMCTwAd1wXpnZFYJafY1ncDSLBgYsGz3Tfh\n",
              "iXxnHEdoskS8VD8XtQAAB9YQiAAAAwFBAAABjkGa0knhDyZTAk8AE5/Ry4BUbVaTlTj5F2UBLJm0\n",
              "BwEwPsE226SIoxjkdMXH0P1A9VyFvUvRYm0PFdI2YwcMt87BlhU3q2lF9IVmOoFfqMg7San5haw4\n",
              "VOkDkKs9CD7cUtQR//vSc4URTFMQsEUO4igujDt4W4T+qmBjf6Kbo0YlMVf4XrDMEq/inyMkLxkA\n",
              "bq1D4Nkpwmh55PQV4XamHbxm/TOZ5xOY3PRbNrmOB33ak/Dob3ifHfmfSlbkxoivdBdmnu84Tkoq\n",
              "Q2idCMGCnvw68AJROIuwAALZf0wJ3stWxQcbpidMZlx7IDhn3FcEFWOvRXru4wi3ojF69XwqqAjN\n",
              "v+NrgIy8Azvo0m9L7XEZEIAPKeBvkj4T7p5wvnN6oPIjwhukt3wdcTxJHN1mnBYQawWd6DuR7uxB\n",
              "sslH8THSh+753Kbe5MRNz7M8nZ/lLGmgaK30R0KFPt7vO7I/i67wcNS5VQ4eMoivxCrinWPESrDO\n",
              "GAhx/AV+u5g4NnU/Ve+a8ExnzFQbsAAAAwNTAAAANUGa80nhDyZTAk8AE5+S14sAl9YAXAJBN27S\n",
              "/duIh2N9mgyRbKnHw7AA3VEs0XqXAAADACrgAAABhEGbFEnhDyZTAk8AHzwIaBR/gqEKuwuX06Kp\n",
              "1lHscLyoGLPlSBPr+pKsmbxhvQV/5YfiD5bEXH3f+caIv87xQe2YePqiPRfXrwOcn8piRLJChHR7\n",
              "q76FkSuluAJ39oaNyIRCDo1zaiqBHSlT63WZ6S3IMSE0u21yKN1rr1q7tqRpsJgrcAm3dGEngEF1\n",
              "18tzlp8TxQlFSmsNTxbNIegUPOVAbhxmkUpzbc1C40t8DIsPW83shAGD68L1KfA9JedzrS82Bi1I\n",
              "Gi35BZk9W1xw0fmDJ3OJAK0CzV67wJgfrAzaZbMHuTWMgehPVTrLtqDmG7lZNishLE2zrqtc943C\n",
              "e6sub7txTO+MBVhMT+BnTsiM5Au7HoTF2EzKPUdchtEVZd2jQ0+R0X5E9r2x5Ry/gj1K0l+sjhJ9\n",
              "rwNlx4Qrg/h5n7DQeoFWcNtmMjwPoy7chmrxjZjaldsMbWgnRuzd5QUFknUXnfcbHAINQJHu9qac\n",
              "EebewV00UG9ZwSAABJZYQAAAEXAAAAAwQZs1SeEPJlMCTwAfP8p0Wx4ZydQDEN3a9txFAAC4kOjq\n",
              "R2zEQ6A+oAm8sIAAACLhAAABn0GbWUnhDyZTAk8AE54C9L+ltVg5xutUOns7seKuB4tBX/AQ9Q/q\n",
              "bBNzrI02IyumPSACa2szeAy3ZZeNj8B3cYJz/a6ZHArJ1l8o0TOe//mWCUdjQmyvMXbWMGh/2Imj\n",
              "uohnOBm2H31QkG2zrpc4x7+uzYbDXoXDb2Tt4J2/8qORaWTHEGk/pKQ3+2BrRfAg5zn3lUmCKqcz\n",
              "YqsHg51F4p4Va5rOimue+QaiI/dHN4L0thHUpbWpmdAKsBs+kD+shaE36XVHr4gYjR6Qhw96OO6M\n",
              "8zipb5ghG6xnpL41KH1JwHKNx0tk9AKorJIX36qDUPwgAlkiyys5nM20wmkGHxFBBYpDnBO9R62U\n",
              "yNp8EWsOtY39xY1t542lCowiAuj26A0MFY0JIFw2aZUKpr7akZLssHVNDhAKwSoTgJuKVsFXeym0\n",
              "glsZIaLHBOYeoWQ94mrPuxbKq4aSFgDN85YteSj2kTnk+hUJoq00zNYybwbkzis/CgEZt7qJp2bO\n",
              "fHhAdDeXqnbRPjqI7UZizbilld2jwm4m+dtnxwbxUfAAELAAAAA4QZ93RRE8Jf8xQASJaGePtKv4\n",
              "eG9ZapIcP6U5/W5Tt0y3XNh8xgB9H/FjgcvDYl2I8Poz8AAAsoEAAAAgAZ+WdELfNmABvdmxCH/j\n",
              "PmFp25ns+c67AaPUcAAAMeEAAAAYAZ+YakLfBRgdAoNFFCndFeFKTdgAABSQAAABmEGbmkmoQWiZ\n",
              "TAk/AAAb7/KcNWiTWPFrNczZhTqBD3npKyvtl/xbVOPjW0Ez+QpBJd82XQlkDIg5CC6eF0Ob4780\n",
              "awaFu9P2hK3ttKVRrXvSnWgd4g5djzUKhUduPZEHE3aZNByCjlmShz+EkAKyEqvPigEGSy8K6Xvs\n",
              "Z/dodqXf0bw4JjjlHCSRPdp5zOitkaUXFDX5QmwBWPU4hk8XnKmXPhe6ZSxKQqn/bTccIAy7aCH+\n",
              "v+d9qoYX2KHr0k9cTDt1tUZIAcXTGbt+rbJMEBrgh684Di4aSVghY9+ZSys5R+FE15bnewkDOMVe\n",
              "w23cMhJnwoSdWM/TRbNWXvyu2ipwNCnUszP7ZDrN/2YvDnh/U+MLzfT0N7f6FfFyjIe9KMtoy9Nk\n",
              "l8EjqzWKwavePLiJ7MdEhG4hOexXDmHD8iFFCsVWe8SRFToJsi9M4k4iSNMRpsvi+3adllo1gi5U\n",
              "TUjx/K7eDxWAVoy2oShlE7ZbYh8Tws8GE4pR8A/1lB3qiYaIIIJAgiv7cg+qKEaBgZkrsEgmiMAO\n",
              "OQAAAYRBm7tJ4QpSZTAk/wAAAwAy3+U6LlpCAGFoVyE33oBItUZI9sixu/jBCbnso5VN4Rnft0/m\n",
              "yXhOQ2K+a9HscYGwugQYpDXq+zYrbzaefGb+xC60T2IUnLXAqL5pnx+YzL7JKwjO7e4klUkt98Ta\n",
              "1FpDa/bWgaNiCjefRqBFQSgKV6ujke/WsxBCPfcuIlM/YIpaFJWgiLSh7q+ltYt9udN+6XZWefCe\n",
              "izEgEOzA2UBZ+J8isOPya/4nGVBfwmHEvcsHD1f9TcWmogoPWrRX/BHOmsXNfaV7szH6Hs8n79l2\n",
              "Qx8thFRmAPPjyuEVRjN6mJhvkBd6L2WTiPGUxUnQl/QleQmDZtBw3rzRJt6g8oenT7GbYM02Z3zb\n",
              "dx7kLsKcMMmGfdGXWf7Jd0vCgRYQpgsHD1mSUHXD4B4yn55ZerjhoO5OTeyZELrk9EKgxrpCYadt\n",
              "Z7tMA+TqaKZ4eGEhJ9glWGdLTC6SfpfcfnMNRMKEtBnTMre2skQpLQJY4N6/02/XDBbMAAAAQEGb\n",
              "3EnhDomUwJP/AAADADJBEbyNN6ABnoXn3e773BrxpvYlQIgBL6qAdOCi6Y5ZMVZr3ZrQpFBkFziB\n",
              "QhHcjKkAAAGdQZv9SeEPJlMCTwAAG0/20vxETUP6mwTc6yNNiMrpj0gAmtrM3gMt2WXjY/Ad3GCc\n",
              "/2umRwMxJZXF7xRnv/5Y/+ArQmy1ucQTEWKH/YqrjzQ1mzZYM8RhfLM9nXS7GT5W/Og21sPusaUx\n",
              "OW9LKBzlFgCHP/X3bUlIb/bA1pFr5qEnW8qkwRVLl3wOuIznovEr2p7fbOFNc98R3GR+6ObwXpbC\n",
              "OpS4iFIFyMcBs+kD+shb9Qd7xTwPqlYY9IQ4e9HHhpW6peOfMEI3WM9JfGNC5ROA5RuOltCoBVBJ\n",
              "5k8Xc7rT4V+G4EvJJhLLb7c0Dz+u8YxqUhvCJ6DElU+RtNSadcItnldGNReapA+JF8qLo9ugNCL7\n",
              "tfXkDX1z0iqbKlWqXklfAjwcIBWCVCcBNxStgq72VBWLCV+yAiz+ExQ3gPmJqy7sU0VXDSQ7/Ub5\n",
              "jbfOv9aPOdF6hUJOllhA5PLq1E96xJ94Y8zb3UTTs2c+PCA6G8vVO2hwFr+bzu2LJ7CR/7v6I59K\n",
              "4F/JjWlrUlfINR88gApoDqDh4XaAVsEAAAF2QZoeSeEPJlMCTwATanX6qTjBm1+8y+xb/utvTrOo\n",
              "hTpNHB0yVmBvz+OqJPxB149aLo4t7lmmLZeUqpA5wNJb5kyi2E5X7cICc2pD8sfG5Kuiq2kwIDJe\n",
              "dDX0BbYVFWxZcrWpwqVi24cfDLg5VYwfKV48CyeBpvXq00/bPKMDjuqgcZ13f0NPA0fSULM0fKwP\n",
              "03hvdFew/iP4/WXjEYj6Q/Vb2cZJ8IFGoJbEVi5GgEpuoBQsNoIz/G+8pjfB8+f/uFspfDKgcOl1\n",
              "jBC7griEevcthGpGigP9Av9+d22btuwdhw6arg0sJksa9eEXu6KpryT0Kjt8TmZhD1Zq1EKKFnK8\n",
              "00VW5YdIxeIFNwn7O3gE2uc5wtZb/d0xSNW0Kd8C/VclsUqA2noYiOK82gmS6/wxfs8L1pbbaIvN\n",
              "WCCYH3VMRoL2guU3xixcVirzkTiXwlymHXGDS0mVPPjDifp6OAa01Qo6okTijych1JANIJIZfaAA\n",
              "KCAAAAGEQZo/SeEPJlMCTwAfPAhoFH+CoQq7C5fToqnWUexwvKgYs+VIE+v6kqyZvGG9BX/lh+IP\n",
              "lsRcfd/5xoi/zvFB7Zh4+qI9F9gUK0TflMSJZIUI6PdYDF3BIgSj0hrzHvNONtUrSRVFLhHkNqhz\n",
              "KnnTXJWhjj98L8m7CAB0XKjUHd7CYK3AJt3RiPXfquuvluctPk+KFqpD1hqeLZrj0Ch5ymujCRAZ\n",
              "vbwj9VmOENRQnB1WUZtWIAQzrJRomQ0rS53OtLzYGLUgKpecFmYaIQQL48aH0nIkArQLNXru49Ag\n",
              "K6mYSibPcmsSYSxSVTrLtqDmG7hJhaYQLN7Z10YCu6EjPdWXN924pnyvDQBB2fAz7xpGcgXdj0Ji\n",
              "7CVVaEniF54q1eWyhpSDovyJU8tjyjl/BHqVpLmrHWfiXAbLjw5XB/DzPz2g8Z6E4d7MZHgfRl1l\n",
              "Y/GNXNqVPMWUDBOjdm7ygoLJOovO+422GzmI7o72ppwRocjonNx6zgmAACQs2FgoAAAHVAAAADZB\n",
              "mkBJ4Q8mUwJPAB3XBi92RySvvtgFBikDEtgXnKtsy2f8TS/p5TxqfO/i4pCACVSwgAAAIuEAAAA5\n",
              "QZpiSeEPJlMFETyfAB3XPO/SHh9xdByWSyBB+qGT8rvPqCHIsatjkEOtTFHy7EWFfPKCawAAAwEn\n",
              "AAAAIQGegWpC3z6PtmkBUWa0fAVu/XJLadwTK6knagAAAwABiwAAADVBmoNJ4Q8mUwJPAB3ao5cA\n",
              "qN2ZCxoHnzmPUQT4USOz40RfDlb9eNbPixjcAMKWCJgAAAMBbQAAAYpBmqRJ4Q8mUwJPABOeAxe8\n",
              "6oAp+u2GluygJZM2gOAmB9gm23SRFGFWfLUdlQJsD1XIW9S9FibQ8V0jZjE0NITMGWFTerabq8IV\n",
              "mOoFfqMg78BP5gOoQqdIHIVZ6EH2wkE8Y/+9JzhRFMUxCwOohkoProYyB2z7ioAjI30U3RE4NlcH\n",
              "76GGyRCD+Sce5bjIA3VqHwTpE5NDzyegrwu1MO3jN+nUzzicxuei2bUdI9HIDyn2wIG2HRssmpO/\n",
              "gTks9z27zhOSiYvuIZkjJGNpAWgcZuEI+AACrcGBz97LVsUHG6YnRuX9eyA4Z9wqExEOimKxCcWN\n",
              "WoDNdqYcoCKBZM2vcKfDiwG/Ymffa4jIhAEmSIHYjWV/xN/AsoCvCh5Edbbvg64np8pu4hBH4A5h\n",
              "UFBnWvuCqpm0Zq6G9zcbInQS9jORjPOhHCTJv7vuVPylljHVHqO64hiZEnelLwMFQKtn2V2V1fSL\n",
              "NU3T7X/QZY/OKFRnpoZRr4LG2nsf3JK+cBk16PZEAAADADPhAAAAM0GaxknhDyZTBRE8nwATngL0\n",
              "zYDHB/4UGuA2q8FvG7kImqxg7HbWy4AF/41+yQAAAwAd0QAAACUBnuVqQt82YWHZth5iAD/G2OUP\n",
              "qckXh4weZs9gDZwgAAADAA7pAAABhUGa50nhDyZTAk8AHzwIaBR/gqEKuwuX06Kp1lHscLyoGLPl\n",
              "SBPr+pKsmbxhvQV/5YfiD5bEXH3f+caIv87xQe2YePqiPRfXrwOcn8piRLJChHR7q76FkSuluAJ3\n",
              "9oaNyIRCDo1zaiqBHSlT63WZ6S3IMSE0u21yKN0xBpvxqDu9NMFbgE27owk8AguuvluctPieKEoq\n",
              "U1hqeLZrj0Ch5yoDcOM0im7I/VZjhnUUJwxAVjtaiof51ko0OIaVS87nWl5sDFqQNFvyCzKjb7Hl\n",
              "MeND6TkSAVoFmr13gTA/WBm0y2YPcmrQOBhbOkZl21BzDdysmxWQlibZ10Frrb8BPdWXN924pnfG\n",
              "AAAfLPgZ9x0jOQLux6ExdhMyj1HXIbRFWXdo0NJwdF+RKnlseUcv4I9StJfrI4Sfa8DZceEK4P4e\n",
              "Z+w0HqPQnDvZjI8D6Mu3IZq8Y2Y2pU8xZQME6N2bvKCgsk6i877jY4BBqBI93tTTgjzb2Cumig3r\n",
              "OCQAALkx2AAAAwKTAAAAMEGbCEnhDyZTAk8AHdcF6Z1+AIkE5zbpYOFRaxltahvvVN0OYmkX7IAD\n",
              "1lhAAAARcAAAAaJBmylJ4Q8mUwJPABOeAvS/pbVYOcbrVDp7O7HirgeLQV/wEPUP6mwTc6yNNiMr\n",
              "pj0gAnlAsrUbdv8vOx+A7uME5/tdMjgVk6y+UaJnPf/3rqgLeaE2V5i7axg0P+xEiwrhoo2ywZ4j\n",
              "C+WZ7OulzjHv67NhsNehcNvZO3gEHMFRyLSyY4g0n9JSG/2wNaL4EHOc+8qkwRVTC4KdFA3lReKZ\n",
              "VWuazoprnvj5eYqszm8F6WwjqUtrUzOgFWA2fSB/WQt2oRCxd5ozlYY9IQ4e9HHdGeZxUt8wQjdY\n",
              "z0l8aXsF5aMrGEfcX6qdnbCiO5o2OQZR7CWW325oGp9d4xjUpDQ5KBn1iKyUrb9c45Fs8roxqLzV\n",
              "pcv6XCBc+BFjhieGzTECPOuekVTYHFH/niig88HCAVglQnATcUrYKu9k+bn2x4CwKZb5ccBYD5ia\n",
              "su7FqLn707wCMbljbfOv9aPObsfhAVerppmjdQ8gK96xJ94kcIbGmTHZs58eEB0N5eqdtYgQcqlS\n",
              "I/bE/T0I3f0R0iNwL+TGtLY+E5Xe94CET6QcABbQAAABmEGbTUnhDyZTAk8AABvv8pwTvh2S5zN8\n",
              "Z00rAMAVHcj0SoG5f8W1Tj41tBM/kKQSXfNl0JZAyIOQgunhdDnGO/NGsGhbvT9oSt7bSlUa170p\n",
              "1klDgVDnDR67OxsFZmk05pet2OQUcsyUOfwkgBWQlV58UAgyWXhXS99jP7tAFS7+jeHBMcco4SSJ\n",
              "7tPOZ0VsjSi4oa/KEdAJvgR2o1PmcqZc+F7plLEpCqf9tNxwgDLtoH4BP532qhhfYoevST1xMMRW\n",
              "1RkgBxdMZu36tskwQGuCHrzgOBhpJWCFj35VMb+N0cDNry3O9hIGcYq9htu4ZCTPhQk6sZ+mTSas\n",
              "vfldtFTgaFOpZmf2yHWb/sxeHPD+p9C4tLPQ3t/oV8XKTfsjeltGXpskvgkdWaxWDV7x5cRKZjok\n",
              "43EJz2K4cw4fkQooViqz3iSIqdBNi3pnEnQSRpiNNl8X27TsstGsEXKiakeP5XbweKwCtFG1CUYo\n",
              "nbLbEPieFngwnFKPen+soPEqTDRBBBIEEV/bkH1RQjQMDMldgkE0RgBxwQAAADxBn2tFETwl/wHm\n",
              "83X3lxdKCNvv55l0NfFFNCVMPMDRP9Zb16O5Eep+8Q01GkQy7IRHB8o/MBlWjCAACbgAAAAcAZ+K\n",
              "dELfAOyWbb4FwEQcbdB47Db6/BJRMAABgwAAABUBn4xqQt8A6l6tdEQ296i3AewAAZ8AAAIEQZuR\n",
              "SahBaJlMCT8AAAMAMt/lOi5aQgBhaFchN96AQUgnU+QX1ubeV2+/EuuzEas8Jd74RxPs10cPdt7F\n",
              "8z5qTSOYvmvV4OBB9ki0PqTdCkxgWLTjYpxvvWf0EGQKFhUyWq5dVM+zfwbHKWwTGjZckV+yhVS8\n",
              "wJ36ANYa2I3+SPJ34HExljptzt6k1P8uqTHFDhJTtl6ZfvwJY+S9omNA+azkXTOfycziXLtoGUwp\n",
              "tK1LcJYxdrffd1DnhXAeBGpN2QMUmMFpH3cVDTFuQNW8Xp9ZY3whZQZJNMF52/Gv+j4oepcDk1Y4\n",
              "voZEezVV7nZ27shkE8qPYIa/u2f8476EQ2dfaNKhzbQY5ma6lWCHEkDgbM55DsSqfNKnElFDPjwM\n",
              "4ZDlC7BsPVPkh4+33ny6AGR2iXkgpv19hNVDFTLyYvnnOQPhEAHnGqehnl+ZmrRLdfeyRpnzFj8h\n",
              "WnCTa0GCJa1mu8WJ0FCFHhUNu8bIgB8k/tL5SJI2F+JTlouDvXTjRbjYJIRtkGCGOIS6248/whwH\n",
              "VyPtAr5ag992jv4hSMT35A5UoY1oF97GtDd3yGc3lxtdzj1zc8joYSf5kQi282csTpFKi8tp2DHC\n",
              "YrwJC3xunvYft07dD5S3Ej7ueeupyDeRd+Myt4FAFY2fWuXN9pZhu4hJzS7Zn1orwADo5b+VGSrv\n",
              "AAAAKUGfr0URLCX/Aebzdg+06ErYmMr9nCePEQWrly4VgW3KgGyCv4RhOBAxAAAAHwGfznRC3wDs\n",
              "jyVTaHbn/qvArwaZiBgHzXifDqhAesAAAAAVAZ/QakLfAOpeoBsHc8qulzoRqAO6AAAAQ0Gb1Umo\n",
              "QWyZTAk/AAADADJLx3Fnrmq7HUs0oFuiRXe4NiwN5shUVnrGX1UA6cMYHVUBZJleQMByjiJo2+TA\n",
              "0wswx00AAAAlQZ/zRRUsJf8B5vN2D7ToX2D/1GkAk3yUFg23rAgdnLXdAAAgYAAAABYBnhJ0Qt8A\n",
              "7I8YGO9PZrT6DxGRAKSAAAAAHQGeFGpC3wDqXq5rbTaUBG7+3LBTLrVWd6PtkEnBAAAANkGaGUmo\n",
              "QWyZTAk/AAADADLf5TouWkIAYWhXITfegEi1RklIrLr/69avQ6Jpxb0j9yGAR0wWzAAAACRBnjdF\n",
              "FSwl/wHm83YPtOhK3bS8NAKs0Q56HILkRFpm6OVgArcAAAAeAZ5WdELfAOyPJVNtZNqKwQVdCSqL\n",
              "CJEUH9lecBKxAAAAFAGeWGpC3wDqXqAbBnKzTDr8fAXcAAAAPUGaWkmoQWyZTAk/AAADADJMR0dn\n",
              "rmWqlhhbdPMDGFdwbIO6AIxM/IXbymWB6KQgqMjt97QXDqgYpJDBbMEAAAGeQZp7SeEKUmUwJP8A\n",
              "ABtP9tL8RE1D+psE3OsjTYjK6Y9IAJrazN4DLdll42PwHdxgnP9rpkcDMSWVxe8UZ7/+WP/gK0Js\n",
              "tbnEExFih/2Kq480NZs2WDPEYXyzPZ10uxk+VvzoNtbD7rGlMTlvSygc5RYAhz/1921JSG/2wNaR\n",
              "a+ahJ1vKpMEVS5d8DriM56LxK9qe32zhTXPfEdxkfujm8F6WwjqUuIhSBcjHAbPpA/rIW/UHe8U8\n",
              "D6pWGPSEOHvRx4aVuqXjnzBCN1jPSXxjQuUTgOUbjpbQqAVQSeZPF3O60+FfhuBLySYSy2+3NA8/\n",
              "rvGMalIbwiegxJVPkbTUmnXCLZ5XRjUXmqQPiRfKi6PboDQi+7X15A19c9IqmypVql5JXwI8HCAV\n",
              "glQnATcUrYKu9lQViwlfsgIs/hMUN4D5iasu7FNFVw0kO/1G+Y23zr/WjznReoVCTpZYQOTy6tRP\n",
              "esSfeGPM291E07NnPjwgOhvL1TtocBa/m87tiyewkf+7+iOfSuBfyY1pa1JXyDUfPIAKaA6g4eF2\n",
              "gFbAAAAANUGanknhDomUwJP/AAAb7/FJ4AT5gxr+DfuyCnO+Ea1zEwQJdQUpr7KAX4O0IZIqShUW\n",
              "0ArZAAAAJkGevEURPCn/Ag1gfZF+zqUCdr3jZ5NhBx+XJPm6hczPdyyAABQRAAAADgGe3WpC3wDq\n",
              "XqAAADKgAAAAQUGawEmoQWiZTBTyfwAAGwaDqCciBHPHreROiHIun53oVaP+HZQtNik9XRS5uNRR\n",
              "V0uRhc9dV2IqOV0sGllSMAOOAAAAIgGe/2pC3wIdd8xmquUjfrqQ5zrWlyl9zVXUW2smjAAAKaEA\n",
              "AAA1QZriSeEKUmUwUsn/AAAbAkR9tXgSr93uuguwghYjjgYQGugNxT6wRgACXjE1yPkJ4sXaAVsA\n",
              "AAAfAZ8BakLfAh13zEht2Yc6QHsxWVwU3VLMDR2QIAAHzQAAAYVBmwRJ4Q6JlMFEyf8AAAMAMt/l\n",
              "Oi5aQgBhaFchN96ASLVGSPbIsbv4wQm57KOVTeEZ37dP5sl4TkNivmvR7HGBsLoEGKQ16vs2K282\n",
              "nnxm/sQutE9iFJy1wKi+aZ8fmMy+ySsIzu3uJJVJLffE2tRaQ2v21oGjYgo3n0agRUEoClero5Hv\n",
              "1rMQQj33LiJTP2CKWhSVoIi0oe6vpbWLfbnTful2VnnwnosxIBDswNlAWfifIrDj8mv+JxlQX8Jh\n",
              "xL3LBw9X/U3FpqIKD1q0V/wRzprFzX2le7Mx+h7PJ+/ZdkMfLYRUZgDz48rhFUYzepiYb5AXei9l\n",
              "k4jxlMVJ0Jf0JXkJg2bQcN680SbeoPKHp0+xm2DNNmd823ce5C7CnDDJhn3Rl1n+yXdLwoEWEKYL\n",
              "Bw9ZklB1w+AeMp+eWXq44aDuTk3smRC65PRCoMa6QmGnbWe7TAPk6mimeHhhISfYJVhnS0wukn6X\n",
              "3H5zDUTChLQZ0zK3trJEKS0CWODev9Nv1wwWzAAAAC8BnyNqQt8CHXfMSGAYy/7sTn7FAWDTEQex\n",
              "HjgqDSHjyICfQQ+6HtXHRF0uYwBJwQAAADJBmyVJ4Q8mUwJPAAADADJEgxjv0AAFXEo7g17Mf/7P\n",
              "YiNdL0+UsVo7/dcPrCBEBLcjKwAAAZlBm0dJ4Q8mUwURPJ8AABtP9tL8RE1D+psE3OsjTYjK6Y9I\n",
              "AJ5QLKjLkNPMiUAOd3GCc/2umRwMxJZXF7xRnv/72KKZ6omPOCUrWdJQ4h/2EhVeBvygBm2H31Qk\n",
              "G2zrpdjJ8rfnQba2H3WNKYnEjtl6FQtF5iscQaT+kpDf7YGtItfNQk63lUmCKyBmqEIfdDOLbDnu\n",
              "BPDwCtaiK0jdlmc3gvS2EdSlxEKQLkY4DZ9IH9ZC3hX92q+74gYjR6Qhw96OPDSt1S8aeYIRusZ6\n",
              "S+NQGiTgOUbjpbOYVTB49zEdzLjgS8kmEstvtzkPY1YdjGpSG8fySkakpuNp7qWqz5YshIjUXmqy\n",
              "aH0szICPboDQwRe01h4NFc9IqmtfXR/nmzfqaHCAVglQnATcUrYKu9k/7PEPqv4KZb5ccBYD5ias\n",
              "u7FPD/96dlIU1wmF4hWy+aNjGbAQFQuywgcxESAie9Yk+8Nv0Oxpkx2bOfHhAdDeXqnbYnTQqpUi\n",
              "P2wXhZCN39EdQifS/kxrS1qSw+V3iUgB4AOsT1TIIBlRAAAAKgGfZmpC3wIdd8xIbeSM5YM04BHX\n",
              "3afRQC8KgStNQW7Hz3o+YJ4eAAAyoQAAAXZBm2hJ4Q8mUwJPABNqdfqpOMGbX7zL7Fv+629Os6iF\n",
              "Ok0cHTJWYG/P46ok/EHXj1ouji3uWaYtl5SqkDnA0lvmTKLYTlftwgJzakPyx8bkq6KraTAgMl50\n",
              "NfQFthUVbFlytanCpWLbhx8MuDlVjB8pXjwLJ4Gm9erTT9s8owOO6qBxnXd/Q08DR9JQszR8rA/T\n",
              "eG90V7D+I/j9ZeMRiPpD9VvZxknwgUaglsRWLkaASm6gFCw2gjP8b7ymN8Hz5/+4Wyl8MqBw6XWM\n",
              "ELuCuIR69y2EakaKA/0C/353bZu27B2HDpquDSwmSxr14Re7oqmvJPQqO3xOZmEPVmrUQooWcrzT\n",
              "RVblh0jF4gU3Cfs7eATa5znC1lv93TFI1bQp3wL9VyWxSoDaehiI4rzaCZLr/DF+zwvWlttoi81Y\n",
              "IJgfdUxGgvaC5TfGLFxWKvOROJfCXKYdcYNLSZU8+MOJ+no4BrTVCjOJpqeAiIeyoCYiM6mPgACF\n",
              "gAAAAYNBm4lJ4Q8mUwJPAB88CGgUf4KhCrsLl9OiqdZR7HC8qBiz5UgT6/qSrJm8Yb0Ff+WH4g+W\n",
              "xFx93/nGiL/O8UHtmHj6oj0X16aCTkJ5RmWSFCOj3WAwUdMJyA9/aGjciEQg6Nc2opcI8rtztbQt\n",
              "JvHoxITEyFJFG6YAmrpfJrF9hMFbgE27oxHrynSe8tYyV3iYzZxzL9teesBGruB+m0Sn7Cr6EuvC\n",
              "P1WY4Q1FCcHVheuG3Te5W8q8kpDStLnc60vNgYtSAqmCJ0YVehBAvjxofSciQCtAs1eu7j2vo14g\n",
              "DLZyC31iTCWKSqdZdtQcw3cJMLTbGwiRLD9tXvG4T3VlzfduKaDOg0AQJHwM+8aRnIF3Y9CYuwlh\n",
              "myaVlzpS3z8pdqmTMBfIlTy2PKOX8EepWkudyrojBeBsuISsCzszSBGLvAxazh3sxkeB9GXWVj8Y\n",
              "gAugpLxZQME6N2bvKCgsk6i877jbbcfBWK2leiPrrcZvdaV5anBMAAEhZsLBQAAAOqAAAAA/QZuq\n",
              "SeEPJlMCTwAd2qOXAbubjmzRunt1dAy0F+Nwz+LylYR+c2R2meCqSFIo1mxfF+UMVwAW1tYjMKgA\n",
              "AAYFAAABkUGbzEnhDyZTBRE8nwATn9GvkKNEbJ4qcfI6ygJZM2gOAmB9gm23SRFGFWfKMfvl+oHq\n",
              "uQt6l6LE2h4rpGzGDhlvpGeAKm9W0oXwhWY6gV+oyDvwE/MLWHCp02chVnoQfslzPUaY8Vs4URTF\n",
              "MQsDpu4o+ujDt4W4DVRgIyN9FN0RODYtdVPeIZglX/E+RkheMgDdWodoHX3L68umk2vhdqYdvGb9\n",
              "M5nnnChTsFs2APSpPv05uHQ3vE+PbUWJwJ4XNvObxopMG9wnJRT0LDCFjsFPfh14ASicRdgAAVm/\n",
              "pvzvZatig43TE43b/r2QHDPuFQoLZ+XEixoYU29EYvXa135QEZt/xtcBF5mid9Gk3pfa4jIhABfI\n",
              "QG+SPhPpbnC+c3qbElp5jdJbvg64np8pu4g/KWYihLoPhNnu7EGyyUfxMUbmpgEvYzkYzzoRwlTF\n",
              "P8ok00DRW+iOhQp9vd53ZHz9BgpXz7K7K6vpFmqbp9r/zXJVhnDAQ4/gLAHXYtrOx/ckr5wGTXo6\n",
              "YUjbAAADADVgAAAALAGf62pC3zZgAPBI+Cq7BZkJybEVt4bpXgIQL0r3zlcwa8CvRFLgAAADAAQM\n",
              "AAAANUGb7knhDyZTBTyfABOfkteLAJfWAFwCQTlKuBhLiIdjfZmMkWydx8OwAxInJi5LAAADAAK3\n",
              "AAAALQGeDWpC3zZhYdmUXvuABuXVM+KWLpSR9ZsvFx647kKoY90HnQEAAAMAAAMBHwAAAYNBmg9J\n",
              "4Q8mUwJPAB88CGgUf4KhCrsLl9OiqdZR7HC8qBiz5UgT6/qSrJm8Yb0Ff+WH4g+WxFx93/nGiL/O\n",
              "8UHtmHj6oj0X2BQrRN+UxIlkhQjo91gMXcEiBKPSGvMe80421StJFUUuEeQ2qHMqedNclaGOP3wv\n",
              "ybsOXp5ndtSKNhMFbgE27oxHrv1XXXy3OWnyfFC1Uh6w1PFs0h6BQ85TXRhIgM3rnh5dQA9R7YBQ\n",
              "68w5tWIAQzrJRoF8D0l53OtLzYGLUgKpecFmTvNjDipXU/SciQCtAs1eu7j0CArqZhKJs9yaxCD0\n",
              "LZ0jMu2oOYbuEmFphAs3tnXVa57xuE91Zc33bimfK8NAHHb4GfcdIzkC7sehMXYSqrQk8QvPFWry\n",
              "2UNPkdF+RKnlseUcv4I9StJc1Y6z8S4DZceHK4P4eZ+e0HqBVnDvZjI8D6MusrH4xq5tSu2GOfQT\n",
              "o3Zu8oKCyTqLzvuNths5iO6O9qacEaHI6Jzces4JAAAzUBQAAAMApIEAAAF2QZoxSeEPJlMFETyf\n",
              "AB3XBel947VYOcbrLCUbHAcI2Z+bN9hxQ2rVqkpREkd9Bw5GwoYIyR8W9YX+LXO+tUjtaKNIuWNB\n",
              "WMcxBP/Gi7nrJ5LH3mybchFN9e60/GB0W6FmnpMCkMycza/kASbrKrjY5wx0mVf/J3+TBFTZknv9\n",
              "VRItmnSsXL+MthwkYQWmWkXGp59+kA1A7O0K57kkpplNPzehC1dV9nJptF0RANf7wIjinoYOL7y6\n",
              "8XViKwdqt7g/YbKPVv9nqnMfm8hYqgqd3chgoFKignIEyKEUbZ/yCIxv+Mww1nBuMHf11X6zruko\n",
              "lRm1sUjAsoGlSuLt9CkCyX9D3mEV1Q6FVwYE7WNIMSNO51BTTIJSgzIqCjgSj3rBzw33Bn7dqHs3\n",
              "hOrDEAWM3IQEJxCRmarfpLA6HHHgsBT0CMee9+4AAOQVPsmD6h33rxip2C84i+OcRz7HOyEfaSrQ\n",
              "qRtTrc7xQoz7futThJVOMGAAF3AAAAAtAZ5QakLfPoAHupeZFIGoFpBxNt+9hVR1SjnffHwC5YQm\n",
              "Gol/NB6hJwoAABKwAAAAN0GaUknhDyZTAk8AHdc8+IYkmUeArGshmuEpAwQPlWnqnmxd373DzNuD\n",
              "qFLRP/7ruxeXPGAAEvEAAAA4QZpzSeEPJlMCTwAd2qOXAb41mSsUoPnteC4hVQTb7wT1dbh1hmEE\n",
              "uhOdA6FZ/I/JGk8Jm/AAAwYAAAAwQZqUSeEPJlMCTwAd10TvsMqh5QdogXRlmAXRd/WD+DxbNeGb\n",
              "nUV6lIFuzVKAABtQAAAAL0Gat0nhDyZTAk8AHdcF6X3jtVg5xussJRscBwjZn6CoAIqABnFWmQt/\n",
              "MYNUAAPXAAAAMkGe1UURPCn/PQAIHa8SlG4iBnTW2RVFJs8rvQBVwzoxrlEinxBrLZBOn+uZThQA\n",
              "ADugAAAAFwGe9mpC3wJZClBS+mMa14ILAAADABqRAAAANEGa+0moQWiZTAk/AB3nvdJOOtxCHYgO\n",
              "pGvET6RkY7Wxdh74PFs14ZudRXqUgW7fxUAAPWEAAAA8QZ8ZRREsJf8466N01ybLnYIRhI9kbD5V\n",
              "leXJkdQoaZFUt3IVzmroYv8kIOlnqRcjT5IJ9CZr64AAABWwAAAAHQGfOHRC3z6AAlnXn1WuaDo6\n",
              "E0LcFh9yAAADAGXBAAAAFwGfOmpC3z239HjzOeAAz7gJH4AAAHzAAAAANkGbPEmoQWyZTAk/AB8/\n",
              "ynOqIEG5yCqTSbOnW8AcfV+cnDBj+3v4MPDzNX6koWHtRQmDAAC7gQAAAZxBm15J4QpSZTBRUsn/\n",
              "AAAgP+wnydn9wExALYXklTIq2L+F9xQ/8SowOV5wTN+e7r7XGfZ0JF8lgleeaGHg22j1zKVDlRVN\n",
              "EE521+b9/HHYsxpoMowrXICd1QgKSGvUoAxJaERSe5+/czqRib/y1IbKvxLHEmUNhW6MYHTwbLUJ\n",
              "b456441LeHY65NgwlmSzC0DWDGbUXELZ4wr4yWfB9fGjOZODHnky/5Z6/fg67y8MbRugqU7wadjd\n",
              "NsWXv9zcv4D74xyoytclSC5eYSC6L7K8VydPtO/HkCw9xYi72r0HRBavfaZS1JDVsvy6ZOsQIb1U\n",
              "pObLlxQ2rfz44pzYDtZ0r9kNfl1ZZjwoxuosf5CH0Adk5sQf7KGM7oD6hBucT612mRm6Ngxu1r0E\n",
              "dQ9Y7phkIw11gjFxVJeFIwC4Co3UNSgPsKpCW34jad1Z3oxz0erv8fnxPxdu2SvCfesRCQgsbEAk\n",
              "0xJxGQ+oE9kCDy4S+nhtwH8o9ivhXB76zWk2nM/gPcQlzG6Xi7HSkL5JwlU3R4WseBJdJNmEIAYt\n",
              "AAAALQGffWpC3wPY4nvVHwzQughTuCMLIFYffoWR6Y/B74J85CnyjjCgnRvqAADZgAAAAZJBm2BJ\n",
              "4Q6JlMFEyf8AAAMAO//lOi5L/IHxa4TMQrZyBTwzjJ4/wvbv4wQm57KOjirKDrr4hvtSdvWebJCq\n",
              "xuZJJbVVqW67pA0fpDdAbmtaoIm4ZvJaAXeFSP2vFxiAZSa4bpBYj+OIim/jFquqZCPINq1vA9Oz\n",
              "peRRAgm1XlNKPqSbFppLZ22k7y0L/9cDXDuss/9cZN9dtvcq3DLxyJHgiRjGVV6ukLRD1PC8ZOWm\n",
              "8cNVH+oW8FTqQyo2d1ASGsupejPmrBs8hhdrhMh8l+zGLAmGhc/g5koe9CZzaf9KNkN5TJthdl5b\n",
              "3hHPJxDQSwto5RMPqBIVK5L4l3j2HH9/Ktxh4LJigTN/l127GD3S3aqR4g5z2JHGsC9yiV53gpDN\n",
              "bP8WWGLI5c0ZUXulpqtB9/D2C3HXlcBAi5y1J7hYcbgbRJDY6pulFJJ9pBfkKOlN9vQX+flPAuWQ\n",
              "TLypkU5WJjJm/cg9bCEL6j/ujLCe79YqH9TuHjUlUskS10ex9b5EJKsa8YjIb7/dRiLgCP36qCAA\n",
              "AAApAZ+fakLfA9jie9UfDKBaY6RY8EYyDfEg4wpvf+MftSDwfYleegNMAr8AAAGDQZuBSeEPJlMC\n",
              "TwAAAwAAbT/KdJbR1VxyJvBX3Q4n4EqDsc2Ds43H+CoQq7C5fToqnWUexwvKgYs+VIE+voAq/ZX4\n",
              "Pegr/yw/EHy2IuPu/840Rf53ig9sw8fVEei+wKFaJiGVr29BQjo91gMXcEiBKPSGr3JB5B0QTDIq\n",
              "ilwjyG1Q5lTzprkrQxx+97ZtIhFHTTBW4BNu6MR679V118tzlp8nxQtVIesNTxamoegUPOU10YSI\n",
              "DNuKYx1mN6dRQnB1WUZtWIAQzrJRj6yg6HjotEPblHYyAql5wWSJb5k3ucSAVoFmr13cegQFdTMJ\n",
              "RNnuTjJXzuzGnWXbUHMN3CTC0wgWb2zr5boVt+AnurLm+7cUz5XffoB/hUjOQLux6ExdhKqtCTxC\n",
              "88VavLZQ1kgNbSoZXtjyjl/BHqVpLmrHWfiXAbLjw5XB/DzPz2g+Z+VrhdY7rCvSPMHOGmmrm1LX\n",
              "PONDBOjdm7ygoLJOovO+422GzmI7o72ppwRocjonNx6zgvIGAAAAOUGboknhDyZTAk8AAAMAAGmM\n",
              "zs3kAVYMNwO70mHc30wwJhFe8RhY2Xf+jO78UJh5fSXNRr6VJl0nnQAAADxBm8RJ4Q8mUwURPJ8A\n",
              "AAMAAGq/y48xyfbbaMJ/pMfdlaTkEvX9GEzJCHLtS1yDyusKnR5w9HPf0Rp06M8AAAAkAZ/jakLf\n",
              "A9jie9UfDKAAqbDM3T2f2GvppLmTb6ydl+SA8DaBAAABeUGb50nhDyZTAk8AAAMAAAMAW//YT5Jd\n",
              "Pn6FVqqTjBm1+8y+xb/utvTqOv/Folkq8er8Dfn8dUSfiDrx60XRxb3LNMWy8pVSBzgaS3zJlFsJ\n",
              "yqXqdsjUh+WPjclXRVbSX1QdupNWOmdsKirT7oGm1OFSsW3Dj4ZcHKrGDwbql3QFcsM4dnlwb16t\n",
              "NP4v6lA47qoHGdd39DTwNH0lCzNAu4H6bw3xvb07lZnbau1iHmVIANsU6ifCBRp1Z0ztxDQCU3UA\n",
              "oWG0EZ/jfd4wyAadMnt5BO24Wyl8MqBw619JTmOCuIR69yyc+DInxIfePdYdke3YOwyW0VwaWEyW\n",
              "NevCJt0BxwQ7WsnoVHb4kGg9rBIuAepPGxs5oJqt2aOkYyj+lDQoVYzUFMAhwtZb/d0xURWEGY2t\n",
              "CgclsUqA2noYiOhxxZNOV/l0+xPaYxWm0ReasEEwPuqYjQXk2Zp+yTwMVirzkTiXwlymHXGEepcs\n",
              "lnxhxP09HANaGSphAAAANEGeBUURPCn/A8Oq26JQpqAAgu/zwrhBvwx2BrOOZ1zGlIgpHTF0Rqxr\n",
              "XqPmJtgIJLWAewkAAAAcAZ4makLfAOpeoB+cgUEqylys8SzBttaFEarS6wAAADxBmilJqEFomUwU\n",
              "8n8AAAMAAAMAWu99EPZDmfhH7QB64nmqXa2Wd0QCTpvlR+8VfIx8QN6Qb+E7f4fXx7wAAAAjAZ5I\n",
              "akLfA+JydRKjPQAAoKIICnWn2fQJE8i2/uiKKtAvp8UAAAGaQZpKSeEKUmUwJP8AAAMAAGq3zf3v\n",
              "fxghNz2UdHGL1wIyS4UZRKm9Z5skKrG5kkltVWpbrukDR+kN0Bua1qgibmaT+jl3hUj9rxcYgGUm\n",
              "uG6QWI/jiIpv4xarqmQjyDatbwPXpIqipqDY6q8ppR9STYtNJbO20neWhf/rgek+1d3Hx/isMPze\n",
              "YaWufW4IkYxlVerpC0Q9TwvGTmBxeLDmWOlyn9B/aT7Kw3cWHW2FejPmrBs8hlGRwmQ+Sz9I8hPl\n",
              "1IZuJhga/F8t2/viEmV+5dsAbCWabDA0D3VhSj1In8mSil4tE2qhLOa14ha6ouJ8hDoUCxdYW4Zw\n",
              "Ze4AE6z94upxU8JQqzpqmAPsW93TUHv9htvHkp7x8rUe2SKOKMr0nQH8WjQJn9n5I/EuAg1teAjH\n",
              "0RAnlTry6ugUnSP1F6DPMvyGaUTdDGXH6pNjznpsQTuERGQayNm2FTOQeKO5bQyHS5RWLR2AzOb6\n",
              "Ee7MODBwkybHg09FVquRCwWM/viuAZqg33+6iQBAEajNiErq5l6AAHClgoVczzsAAAA3QZprSeEO\n",
              "iZTAk/8AAAMAAG0/ynSW0dVccibt1/oi3ehjtW/2bjmzXORl6jfAAa5ZvoqGo6POgAAAAXlBmoxJ\n",
              "4Q8mUwJPAAADAAADAFv/2E71AI/grRKqTjBm1+8y+xb/utvTqZossglj68er8Dfn8dUSfiDrx60X\n",
              "Rxb3LNMWy8pVSBzgaS3zJlFsJyrspmfph6PLHxuSroqtpL8fHknaxyhnbCoq0+6BptThUrFtw4+G\n",
              "XByqxg8MXnLjB7ZY8Ozzk969Wmn8X9Sgcd1UDjOu7+hp4Gj6ShZmUXcD9N4b43t6d0cKf9HaxDzb\n",
              "A7ZOzjJPhAo06s6Z24hoBKbqAULDaCM/xvu7EgAVHE+8dGjNALZS+GVA4da+kpzHBXEI9e5ZEEDM\n",
              "OokWvHusOyPbsHYZLaK4NLCZLGvXhE2K0Y4IdpiT0Kjt8SDQe1gkXAPUnjY0jtHXC7NHSMZR/Sho\n",
              "UKsZqCmAQ4Wst/u6YqDECDOfWhQOS2KVAbT0MRHQ44smnK/zOfaPtMYrTaIvNWCCYH3VMRoLybM0\n",
              "/ZJ4GKxV5yJxL4S5TDrjCNdTLInxhxP09HANaGSpgAAAAZVBmq5J4Q8mUwURPJ8AAAMAAAMATn/U\n",
              "I4Hg9ZBvekv3k8vKiJhM2gOAmB9gm23SRFGMcjpi4+h+oHquQt6l6LE2h4rpGzGB0yG5jiQqb1bS\n",
              "i+kKzHUCv1GQdpNT8xxYcKlgv1DmjZCgaIA/VaEE7ILY14WyK1BTu3EItXRh28Lbeqv46dOf0Tn1\n",
              "7WPfXsw6gep2EgnyMkLxkAbq1Dwi1NhCezDygO7aARpS8R75BDn8uaWOwWzjSdNUCvAz16QG9ENt\n",
              "yLHsK9JjRFe6C7NPd5wnJRT8iXsPhnTARh1s3pVp5HgABqptvdO9lq2KDjdMTXYCV/OFKKt+Xx9K\n",
              "8G8etB5LP+vmGmyPzlptBGbf8bXARf/cANlu/J6XUZcV2QBRO4G+SPhPzxW5fOb1PModAFONMGxy\n",
              "9afikkw1VN5mF4LO9B3I93Yg2WSj+JjRyUIFIUU7M1gvGNnJ+U/ypEFx3ogK1PXf9i93ndkevkai\n",
              "i69Q6dSazLQfudyPhk3XKPLy3DZwvwFgfNDHcru4dFXzfghs+uHngOkAAAAuAZ7NakLfA9jie9Uf\n",
              "DKAAAHM7kwa0GMo5N99yF9W3TblTKCg3Ix50TVzUAqH2nwAAAD1Bms9J4Q8mUwJPAAADAAADAE2S\n",
              "REaeKPBrQ4DuBDjdjRuyCKsvNsslvsfDY+DZmOTXWbsAArzerT6RJ8HBAAAAQ0Ga8UnhDyZTBRE8\n",
              "nwAAAwAAAwBOf9hPk2UMzLT9VgxFW50gnzz+wIAKHhNVdz7yIOTx/CT16PEX4KmfbheCikLK8SAA\n",
              "AAAnAZ8QakLfA9jie9UfDKAAAHM7kwtNUCghSKPX4Z4q+ahD9/F9vyxAAAAAOEGbEknhDyZTAk8A\n",
              "AAMAAAMATZKC14sAnZQCLorW6AZh3ZzNSfDBQe6b5KK0jVCcABuzx5dKMt+BAAAANkGbM0nhDyZT\n",
              "Ak8AAAMAAAMATn/YT5Oy23Hv+D3awEpYhV4GtsIMr5LHO6La1OuLzRZk/h1vEgAAAD5Bm1VJ4Q8m\n",
              "UwURPJ8AAAMAAAMATZDD9NAq8CoAxhW7Vp3Q1AAAi9W1CISN+Cvm5rk7r9KWAATSjNnZpGgHQAAA\n",
              "ACMBn3RqQt8D2OJ71R8MoAAAcz45Tj5zxLgTJvyDoQReEkgIMwAAAYVBm3dJ4Q8mUwU8nwAAAwAA\n",
              "AwBb/JxoFH+CoQq7C5fToqnWUexwvKgYs+VIE+v6kqyZvGG9BX/lh+IPlsRcfd/5xoi/zvFB7Zh4\n",
              "+qI9F9gUK0TflMSJZIUI6PdYDF3BIgSj0hrzHvNONtUrSRVFLhHkNqhzKnnTXJWhjj98M1RaCqLK\n",
              "GKOMpfYTBW4BNu6MR679V118tzlp8nxQtVIesNTxbMaegUPOU10YSIDN6FWbDULjS3wMiYlcv6oE\n",
              "AIZ1koz3f97LN/nWl5sDi/MfRnov9vNtuAT0PzB+N/+s01LSIWt3HoEBXUzXUYxi32mUg32z9eZd\n",
              "tO0w3cJMLTGJoD2ddoQF3QEG3LYReSuKZ8rw0AoBfAz7jvucgXdj0Ji7CVVaEniF54q0IxhNqVIU\n",
              "vyJU8tjyjl/BHqVpOerHWfiXAj73urZgXDzP6Wg9vOE4d7MZHgf/H0/7tNNXni1QPOUDBOjdm7yg\n",
              "oLJOovO+422GzmI7o72sKJqKjronNx6zgkAAGUgZmAAAACcBn5ZqQt8D2OJ71R8MoAAAhmDkhDCv\n",
              "IGlY8o54Xkirlnu5k/ScDhEAAAAyQZuZSeEPJlMFPJ8AAAMAAAMAW//YTvUAkBmzgPqCFjKxIAAD\n",
              "kAjpDlZ4rjhIAEQlumEAAAAnAZ+4akLfA9jie9UfDKAAAIY+l796jiZ4O8O9xyVftdumD5r1AJbA\n",
              "AAABjUGbuknhDyZTAk8AAAMAAAMATn/YT5NlDQbaENodx7KAlkzaA4CYH2CbbdJEUYxyOmLj6H6g\n",
              "eq5C3qXosTaHiukbMYDHgI/jwBU3q2lF9IVmOoFfqMg7San4uiw4VOkDkKs9CD7cUtQR//vSc4UR\n",
              "TFMQsEUFaKgujDt4W4T+qmBjf6Kbo0Yl0fho0ReJ2EfxOPctxkAbq1D4Nkpwmh55PQV4XamHbxm/\n",
              "S155xiY3PRbNrmOB33ak/Dob3h/MHofTLhFoO+M8Bdmnu84TkoqQ2idCMGCnvw68AJROIuwAAzD+\n",
              "PAney1bFBxumJ0xmXHsgOGfcVwbI469FevB8ZYB8NNl9nLTaCM2/42uAjLwDO+jSb0vtcRkQgB1I\n",
              "vu+SPhPxN9Ap7X+jBLChDdJbvg64niSObrNOZIfRQl0Hwmz3diDZZKP4mOlD93zuU29yYibn2Z5t\n",
              "T/KdQXHeiArU9d/2L3ed2R/F13g4alyqhw8ZRFfiFXFOthclWGcMBDj+Ar9dzBwbOp+q9814JjPm\n",
              "yb8AAAGiQZvbSeEPJlMCTwAAAwAATnljURdv4wQm57KPmDRLPoeS+19dtm1flcxJPgLtmn4CqPfv\n",
              "Y57M53qJKk8Uziukb3n0+jzsv3yrLQebPqKf0h762jPxTOoflveqUg/vOFkrAD0DQlpBTdXXEMqC\n",
              "eZXJMq/R/B/Y+pSF8cl1ao4xgVF0GW9fd6u6YICALyw2DV2iiKWGcycILNdz+mHNFy5sY8K4GqoM\n",
              "WycOZAYzH6IZgvshz98Lp3NRO8U87iFZfzojWmOEEk0KOj6g1fnnOt/SEHSyjsHu9kr7qrMjDszs\n",
              "xl7rg5fsT98I+gEMQCp8m/RpaeGrEuSBb/m6+ng1OGFVM2zGqmeIrc8D7uKEqMX5M/osGSQDZAoS\n",
              "dvifPrctag4HEME6rzM2517XFzn+VMDqWRJI5+gZOEfudXuuGhR5SU+RqT8o8mWDN0kNpI81U6XZ\n",
              "u/gTIlpljnDrqtApPE3t9yyjK4vFeI3zOilglCsaLqELp21Z/U1Bbjv0ZAOCWPODNcEDMZ/rrvA4\n",
              "eFj07QP/c1dvGIpEFCRb25VjwATwPev7wAAAAEVBm/xJ4Q8mUwJPAAADAABNktvLdmOK6FUoPVmO\n",
              "Hd9PN4vsKZwyVAmwUfYwcBEpzhZMrd4kGEsRZa/eOJeDQfj9KXUftMEAAAGGQZodSeEPJlMCTwAA\n",
              "AwAAJDmtMAJyZ6TF77sqv9yjGCLWcYM2v3mX2Lf91t6dSAQp0mjhiamz1xYvb0SfiDrx60XRxb3L\n",
              "NMWy8pVSBzgaS3zJlFsJyrQwgKrakPyx8bkq6KraS+tIDI0Ngc64KbVafdA02pwqVi24cfDLg5VY\n",
              "wh8geQ19q/EGzrlalD16tNP4v6lA47qoHGdd39DTwNH0lCzMIoG73w3xvb07pfyQq1uzvdaMujRh\n",
              "xknwgUadWdM7cQ0AlN1AKFhtBGf43372Z0ZrjuPKLQACTQC2UvhlQOHWvpKcxwVxCPXuWIrzAADS\n",
              "dt9/O7bN23YOwyW0VwaWEyWNevCI6gKgziAjULH7yQJEg0HtYJFwD1J42HEjNsKSLAN/scid9Afs\n",
              "7eATa5znC1lv93TFOB3TAjAV0DktilQG09DER0OOLJpyv8i34gGQ5+7L+N42NNbA+6piNBeTZmn7\n",
              "JPAxWKvOROJfCXKYdcYR5miU8+MOJ+no4BoWAAQLL9gBSqgbAAABh0GaIUnhDyZTAk8AAAMAAAMD\n",
              "v/5b7/SCHvJ+LGy6Aj5fToqnWUexwvKgYs+VIE+v3rRoUD9RBeX/lh+IPlsRcfd/5xoi/zvFB7Zh\n",
              "4+qI9F9gUK0Tav0qk/AoR0e6wGLuCRAlHpDXTsLfafoGjXNqKXCPIbVDmVPOmuStDHH74Ytg4Rcy\n",
              "L0FJ6We93zy/IJR5oxHrv1XXXy3OWnyfFC1Uh6w1PFsqbuB+m0Sop+ogM3kAy32gD3HtgFDrzDm1\n",
              "YgBDOslGcN/vdZv860vNgcX5j6M9F/t4cAAPrrKp+N/+s01LSIWt3HoEBXUzXUYxi33FHD4VMcnM\n",
              "rYqh6CDBsMVBijxaX1mRN3QEG3LYReSuKZ8rv4BWe+Bn3jfc5Au7HoTF2Eqq0JPELzxVoRjCbVnH\n",
              "RfkSp5bHlHL+CPUrSc9WOs/EuBH3vdWzAuHmf0tB68VZw72YyPA/+Pp/3aaavPFq/4soGCdG7N3l\n",
              "BQWSdRed9xtsNnMR3R3tYUTUVHXRObj1nBMAATGnQQwAAABPQZ5fRRE8Jf8DgWyv4k6ywABFjdCH\n",
              "ASnLYPyKrDP0jJZLnZO33RyFdi6AqCItM8DdggHqBjfBIZ075/0sLWCrU9Y817H7u3BwZB2uvlt/\n",
              "gAAAACEBnn50Qt8A7I8YFUAXgJJIThy43hs+PMjzEgzEhJxM8RkAAAAlAZ5gakLfAOpeoBcvA1pq\n",
              "Zl8nVA0TvQ+7ladyXy9Te64AUtM6YAAAAZxBmmRJqEFomUwJPwAAAwAAarfN/e9/GCE3PZR0cYvX\n",
              "AjJLhRlEqb1nmyQqsbmSSW1Valuu6QNH6Q3QG5rWqCJuZpP6OXeFSP2vFxiAZSa4bpBYj+OIim/j\n",
              "FquqZCPINq1vA9ekiqKmoNjqrymlH1JNi00ls7bSd5aF/+uB6T7V3cfH+Kww/N5hpa59bgiRjGVV\n",
              "6ukLRD1PC8ZOYHF4sOZY6XKf0H9pPsrDdxYdbYV6M+asGzyGUZHCZD5LP0jyE+XUhm4mGBr8Xy3b\n",
              "++ISZX7l2wBsJZpsMDQPdWFKPUifyZKKXi0TaqEs5rXiFrqi4nyEOhQLF1hbhnKTJeXAK6vdkFl2\n",
              "JEJQqzpqmAPsW93TUHv9htvHkp7x8rUduJ/k7mxp3QH8WjQJn9n5KyanAfyXaDMfoiBPKnXmvctB\n",
              "xUfqLzzeZfkM0om6GMuP1SbHB+gwAnb/yMgw0bNsKmcg8Udy2hkOlyisWjr/J50jI92YcGDhJk2P\n",
              "Bp6KrVciFgsZ/fDUjPkoTiTTrgCAIsE7EJU8Ntv+M/9bN6d9p0hhAAAAPkGegkURLCn/A8xLtXOm\n",
              "e4AARnrxvAi86ryN9cDcG73bemqsTih6Q7W19GJhdXXBjZBrlgeubaoMsixUG+ZuAAAAIQGeo2pC\n",
              "3wDqXqAfWxlnlv4uYHMf9+Na2P6KVBlendTUgQAAAEJBmqVJqEFsmUwJPwAAAwAAbT/KdFy0g80p\n",
              "uDRbGV8F16aKYC0Itm6VKWZ9xf4nS9kC+dEzIEs17cLqf3CpFnTAA0EAAAGCQZrGSeEKUmUwJP8A\n",
              "AAMAAAMAW//YTvUAj+CtEqpOMGbX7zL7Fv+629OpmiyyCWPrx6vwN+fx1RJ+IOvHrRdHFvcs0xbL\n",
              "ylVIHOBpLfMmUWwnKuymZ+mHo8sfG5Kuiq2kvx8eSdrHKGdsKirT7oGm1OFSsW3Dj4ZcHKrGDwxe\n",
              "cuMHtljw7POT3r1aafxf1KBx3VQOM67v6GngaPpKFmZRdwP03hvje3p3Rwp/0drEPNsDtk7OMk+E\n",
              "CjTqzpnbiGgEpuoBQsNoIz/G+7sSABUcT7x0aM0AtlL4ZUDh1r6SnMcFcQj17lkQQMw6iRa8e6w7\n",
              "I9uwdhktorg0sJksa9eETYrRjgh2mJPQqO3xINB7WCRcA9SeNjSO0dcLs0dIxlH9KGhQqxmoKYBD\n",
              "hay3+7pioMQIM59aFA5LYpUBtPQxEdDjiyacr/M59o+0xitNoi81YIJgfdUxGgvJszT9kngYrFXn\n",
              "InEvhLlMOuMI11MsifGHE/T0cA1mlfqAcKSov8nQn4EAAAGNQZroSeEOiZTBTRMnAAADAAADAE5/\n",
              "1COB4PWQb3pL95PLyoiYTNoDgJgfYJtt0kRRhVny1HZUk1A9VyFvUvRYm0PFdI2YwOmQ3McSFTer\n",
              "abq8IVmOoFfqMg78BPzHFhwqdIHIVZ6EH2wkE8R7HitnCiKYpiFgdJK5UF0YdvC3Cf5UwMb/RTdE\n",
              "Tg994+bKh6nYR/E49y3GQBurUPgnSJyMbnk9BXhdqYdvGb9LRnnGJjc9Fs2o6QACmZy4dDe8POv+\n",
              "UCJ38Cclnue3ecJyUTF9xDMWxIxtIC0DjNwhIoAAmcxgc/ey1bFBxumJ0blV+MgOGfcKhM8OilhR\n",
              "CFagM12phygIoFkza9wpw7Yd6NJvS+1xGROAWrggdiNZX/FFapuSiZVraiOtt3wdcT0+U3cQhn8A\n",
              "cwqCgzrX3BVUzaM1dDe5qCGIQ2erCB25zF9CS6v7vuVPylljHVHqO64hiZEnelLt66oFJqdUMV1f\n",
              "SLNU3T7X/kZY/OKFRnpoZS2NgG2nsf3JK+cBk16PAujSYQAAADABnwdqQt8D2OJ71R8MoAA1Ui0F\n",
              "4v0wc7aWo+iSDRzD8OcR+tY875MSAPfaV2yFF7AAAAA8QZsJSeEPJlMCbwAAAwAAAwCZyeDiF4Sc\n",
              "4V4q0m4VedQgbaKZX5iuqxJws5FtFgXBepawAAEH44+VTsmAAAAAPUGbLEnhDyZTAm8AAAMAAAMA\n",
              "m37rWM10wJXIMcKIiYm3A2yVvjxNRLB8Ao3r5epvPnxxIGhNvvxVZIxi/zEAAAAwQZ9KRRE8Kf8D\n",
              "w6rbolCmoAAqMq0ENjcGcGGJnjI1Kyt5jLvlfp97p2Cqg1XlbPAQAAAAGgGfa2pC3wDqXqAXLwEm\n",
              "QGkYOIJOnI11w/uAAAABpEGbbkmoQWiZTBTxHwAAAwABJubwmCcAw/gyWZUvQj40VX5Vstf66San\n",
              "cG/GTaM/E5gKKpN1J7kfDdH77963ipz9RvaFAiEk4k7bfcR+6xrkf0tcueYQzRxk884Y2RtZ2sE5\n",
              "Zyq9rU5aOudrriMNkPV4xNMXU/g/sfujwnkIRL+Hw4fyWGVuYWHmaGYVe3tyKefqJ3al2NYDj6FH\n",
              "ano6T/eOdGo1lXaimzWHDjV2d4wHDuZa0pRIcDRsj1uy8GFuAy/BDES0LOGyC/up5ABc856ZTsMt\n",
              "1Kbu4BflK4pcu/vmngvHZCC5Oe6wCPRQrCUOAj3AHxH+DJzaEqSfIt16wF36BLsYTJyjjrsfwk63\n",
              "v/Q/gJFgySww+CE7Uf6MAN4eXQ/JwiYaQvYcK9fht09OmB0yH+o2MJZSCX9YSujyp2V9ZZHZJtLB\n",
              "m740RQrdcH1YIUVwrgzLbXia8BlgJL1vU2xxXvfMt8VCgFny1+JuWLhfcLEiGPuWRJUxIRpcPzZ3\n",
              "kp4vqaLx5WUO7kOwIe7UIHS/gtse02wdAAAjnchf/dLNq8OylwAAACoBn41qQt8D4nJ1EqM9AABx\n",
              "7pSA400hYnuc7aBik9SM4PBm4+9kmignklsAAAGiQZuQSeEKUmUwUsR/AAADAAEu+GEDID7G00/i\n",
              "vlBksypfGoThCriTKuv5d1R/22XZNHp3kj+b0iGAGVG0tlz95PB2lv+1H2BkLw1aKI9WyFm9IafP\n",
              "3W4C0ti6+yCiKk/Tc2XQ+rDxDO5bCPmFl2Z/e6xl/+wLvFB0vgF9ulolLb3DVHL0fso7E9CMvPJx\n",
              "zY0vcYcQCWm+/Y+3S4agY00dHkaGXd3B7va6YKiwDNT/ywbHzbadubSxcbwGvTc3ADKTWULgEGFI\n",
              "5n5NUGYULIV6fBsoMYHv4c8xlDhwq13kNY1bQzgZ3EnjsFn7GuLflfIo9T5F79HwATBoEM8x8yM3\n",
              "WPSnlr9FQ0VUZ3KZjIRlCh4FiUiMSL8g2984gx6ZAF8hLB9/cxo8DwjfpSKZtc3/00POyim22UAG\n",
              "/+beUqn8cfy/tqG0pN9u/p17OztKO1xV3O7SuT2fksy/2O0G29cEfCqrIdFlXQ0d+2oP9EKf1Ofd\n",
              "ZinWqRbnapVxA4p1Z82v6j107s6n3EQRLH99Mj1a042NOF7u1g1JDfHC3a6+Wu9fwQAAACsBn69q\n",
              "Qt8D2OJ71R8MoAB1+lADZpJp4XvtvV5gM4HAPADPdGVoAvjlDP2gAAAAPkGbsUnhDomUwIj/AAAD\n",
              "AAEjoTe4USPSa8mkJGs3ZOnlDTU6mUq1OoBIXhtXbEQDdhVhZpyPlc/pGyOeQkKiAAAAPEGb0knh\n",
              "DyZTAiv/AAADAAKKWyHuvjQIT91zU1YMm+YfwvEwboe00SKILt7+4CHY6FDCRv/yvLMcir/2QQAA\n",
              "AYtBm/VJ4Q8mUwIz/wAAAwADEggNYaW3Bphw3GlMzlmvcCzjb2iB35oSShVwv+SdfGO4IA41ojE0\n",
              "wruN+vmCT3ON0PCifeTw9p/EtHK5vng/+uRU5QEEkwVizL2tVVAT3ckBRrDWGSCv59vCLg/t2jxR\n",
              "16B3pt+VSu84A8ot3D1O0t+i9VAY0ESHzZIxb7Mkj2u5TqI2nfxSkR10u6JmlXFib2CpyYfAcTN+\n",
              "SZa20rwE4p36NjLHkcdA+Quw94gAZM15BnfbxpJ56VPKNmkhevYF1d58otjUBZFOuz+47m9L+FDC\n",
              "0yyMJwGDobniZEUvceq+MjWEJKsceqgpyZvI0nGFayxBim/WG4voBHoWdu3G2D2rT6pHB33H111F\n",
              "z/xbwmvekruy8UMi5EhcBEgHtyMuVHhS5Y/U5FiWe/7U0FZkbY0jW29Njlisrs41elfZYylbfwc3\n",
              "Ex3SpbrKfLKvkc6K/L7Txb9aA/PEH9oWhBLLt1GqwSeTmqwWS/CI+UghuUdfpYjnIxEMtwu7gAAA\n",
              "AD5BnhNFETwp/wPDqtuiUKagAF+fLpmSuWGXe5E6P81V3wM/hZJKJq6zNGeLJOU8a7sqiRFn69wo\n",
              "5hfArMMzzwAAAB4BnjRqQt8A6l6gFzGUHlL9J/d2LudkXnNLmhho5eEAAAA/QZo3SahBaJlMFPHf\n",
              "AAADAAuUlt/1pxSz9n/lsdBCUiHrS7ohRjGffgqe17i4FrJq/PbRIr7ZY0CNWg4BNCegAAAAJwGe\n",
              "VmpC3wPicnUSoz0AAHHsF1uTRb3l2avO02q9xbqx82hEQ3LbPwAAADdBmllJ4QpSZTBSwl8AAAMA\n",
              "DNUtBWKYw0sDqIJujt9GKNTRlcWfJEEYwFDrEMmQUmvS2U81MeJBAAAAJgGeeGpC3wPY4nvVHwyg\n",
              "AGfMLe9z4oRRuWAmNJwuyQ+NdAC69ar4AAABYUGaeknhDomUwIW/AAADAAAQRsSjjnusqwur/WBj\n",
              "lEzoaVfJU0ptq9CqXa/VoAG3Jw728FaEExVvxpyWTzSB+P/W1Y0kISDiSzlSQo4nmQEcoPKAEmuU\n",
              "3Yzglatp2cyO42lVl6bOUiYdmNhacVHw2yLlhqf4PJbGdN9DCD1uvrynsFTKQuydIf1InsQdE5xr\n",
              "riO5zE+JBh5FHLQPXjpDl2KfXqNtnxAoUfi1kIqUZdD2EAfeVYXxSo9y0nnZ6xboQcKnKT1nCmI8\n",
              "2QU4RBpGphmjM2D+00+2+TQ66qijbX5MuWS3wSRAk8fqT7mb+d59Kh8xXBEfyJLyUQF/PO3WmNpt\n",
              "HL0adUfvLXt2zR5K97YwoHKx8f9Bhby9viw+bLG+Hk9YRgX0Fhm7xHY7drsLwjBKDlhXy3LFmMt6\n",
              "kTBbn9CDryKG7Gg3r/JQFT/ykbq4bKHKk5R7g2nPPa3Ph/PJYAQRAAAMCG1vb3YAAABsbXZoZAAA\n",
              "AAAAAAAAAAAAAAAAA+gAACrGAAEAAAEAAAAAAAAAAAAAAAABAAAAAAAAAAAAAAAAAAAAAQAAAAAA\n",
              "AAAAAAAAAAAAQAAAAAAAAAAAAAAAAAAAAAAAAAAAAAAAAAAAAAAAAAIAAAsydHJhawAAAFx0a2hk\n",
              "AAAAAwAAAAAAAAAAAAAAAQAAAAAAACrGAAAAAAAAAAAAAAAAAAAAAAABAAAAAAAAAAAAAAAAAAAA\n",
              "AQAAAAAAAAAAAAAAAAAAQAAAAAH0AAAB9AAAAAAAJGVkdHMAAAAcZWxzdAAAAAAAAAABAAAqxgAA\n",
              "BAAAAQAAAAAKqm1kaWEAAAAgbWRoZAAAAAAAAAAAAAAAAAAAKAAAAbYAVcQAAAAAAC1oZGxyAAAA\n",
              "AAAAAAB2aWRlAAAAAAAAAAAAAAAAVmlkZW9IYW5kbGVyAAAAClVtaW5mAAAAFHZtaGQAAAABAAAA\n",
              "AAAAAAAAAAAkZGluZgAAABxkcmVmAAAAAAAAAAEAAAAMdXJsIAAAAAEAAAoVc3RibAAAALlzdHNk\n",
              "AAAAAAAAAAEAAACpYXZjMQAAAAAAAAABAAAAAAAAAAAAAAAAAAAAAAH0AfQASAAAAEgAAAAAAAAA\n",
              "AQAAAAAAAAAAAAAAAAAAAAAAAAAAAAAAAAAAAAAAAAAAABj//wAAADdhdmNDAWQAHv/hABpnZAAe\n",
              "rNlAgBB554QAAAMABAAAAwCgPFi2WAEABmjr48siwP34+AAAAAAcdXVpZGtoQPJfJE/FujmlG88D\n",
              "I/MAAAAAAAAAGHN0dHMAAAAAAAAAAQAAANsAAAIAAAAAFHN0c3MAAAAAAAAAAQAAAAEAAAV4Y3R0\n",
              "cwAAAAAAAACtAAAAAgAABAAAAAABAAAGAAAAAAEAAAIAAAAAAgAABAAAAAABAAAGAAAAAAEAAAIA\n",
              "AAAAAgAABAAAAAABAAAKAAAAAAEAAAQAAAAAAQAAAAAAAAABAAACAAAAAAEAAAoAAAAAAQAABAAA\n",
              "AAABAAAAAAAAAAEAAAIAAAAAAQAACAAAAAACAAACAAAAAAEAAAYAAAAAAQAAAgAAAAABAAAEAAAA\n",
              "AAEAAAoAAAAAAQAABAAAAAABAAAAAAAAAAEAAAIAAAAAAQAABgAAAAABAAACAAAAAAEAAAYAAAAA\n",
              "AQAAAgAAAAABAAAEAAAAAAEAAAgAAAAAAgAAAgAAAAABAAAEAAAAAAEAAAYAAAAAAQAAAgAAAAAD\n",
              "AAAEAAAAAAEAAAgAAAAAAgAAAgAAAAABAAAGAAAAAAEAAAIAAAAAAQAACgAAAAABAAAEAAAAAAEA\n",
              "AAAAAAAAAQAAAgAAAAABAAAEAAAAAAEAAAgAAAAAAgAAAgAAAAABAAAEAAAAAAEAAAYAAAAAAQAA\n",
              "AgAAAAABAAAKAAAAAAEAAAQAAAAAAQAAAAAAAAABAAACAAAAAAEAAAQAAAAAAQAABgAAAAABAAAC\n",
              "AAAAAAEAAAYAAAAAAQAAAgAAAAABAAAGAAAAAAEAAAIAAAAAAQAABgAAAAABAAACAAAAAAEAAAQA\n",
              "AAAAAQAABgAAAAABAAACAAAAAAUAAAQAAAAAAQAABgAAAAABAAACAAAAAAUAAAQAAAAAAQAACgAA\n",
              "AAABAAAEAAAAAAEAAAAAAAAAAQAAAgAAAAAHAAAEAAAAAAEAAAYAAAAAAQAAAgAAAAACAAAEAAAA\n",
              "AAEAAAYAAAAAAQAAAgAAAAADAAAEAAAAAAEAAAoAAAAAAQAABAAAAAABAAAAAAAAAAEAAAIAAAAA\n",
              "AQAACgAAAAABAAAEAAAAAAEAAAAAAAAAAQAAAgAAAAABAAAKAAAAAAEAAAQAAAAAAQAAAAAAAAAB\n",
              "AAACAAAAAAEAAAoAAAAAAQAABAAAAAABAAAAAAAAAAEAAAIAAAAAAgAABAAAAAABAAAIAAAAAAIA\n",
              "AAIAAAAAAQAABgAAAAABAAACAAAAAAEAAAYAAAAAAQAAAgAAAAABAAAGAAAAAAEAAAIAAAAAAQAA\n",
              "BAAAAAABAAAGAAAAAAEAAAIAAAAAAwAABAAAAAABAAAGAAAAAAEAAAIAAAAAAQAABgAAAAABAAAC\n",
              "AAAAAAEAAAQAAAAAAQAABgAAAAABAAACAAAAAAMAAAQAAAAAAQAACAAAAAACAAACAAAAAAEAAAoA\n",
              "AAAAAQAABAAAAAABAAAAAAAAAAEAAAIAAAAAAQAABAAAAAABAAAGAAAAAAEAAAIAAAAAAQAABgAA\n",
              "AAABAAACAAAAAAIAAAQAAAAAAQAABgAAAAABAAACAAAAAAEAAAgAAAAAAgAAAgAAAAABAAAGAAAA\n",
              "AAEAAAIAAAAAAwAABAAAAAABAAAGAAAAAAEAAAIAAAAAAQAABAAAAAABAAAGAAAAAAEAAAIAAAAA\n",
              "AgAABAAAAAABAAAGAAAAAAEAAAIAAAAAAQAABgAAAAABAAACAAAAAAEAAAYAAAAAAQAAAgAAAAAE\n",
              "AAAEAAAAAAEAAAoAAAAAAQAABAAAAAABAAAAAAAAAAEAAAIAAAAAAQAACAAAAAACAAACAAAAAAIA\n",
              "AAQAAAAAAQAABgAAAAABAAACAAAAAAEAAAQAAAAAAQAACAAAAAACAAACAAAAAAEAAAYAAAAAAQAA\n",
              "AgAAAAABAAAGAAAAAAEAAAIAAAAAAgAABAAAAAABAAAIAAAAAAIAAAIAAAAAAQAABgAAAAABAAAC\n",
              "AAAAAAEAAAYAAAAAAQAAAgAAAAABAAAEAAAAABxzdHNjAAAAAAAAAAEAAAABAAAA2wAAAAEAAAOA\n",
              "c3RzegAAAAAAAAAAAAAA2wAAB+4AAAGdAAABqAAAACkAAABBAAAAQwAAAaQAAAAoAAAANQAAAEQA\n",
              "AACWAAAAKAAAACcAAAAYAAAAHAAAABoAAAAYAAAAGAAAAYMAAAAyAAAAHwAAAYoAAAApAAAARAAA\n",
              "AcQAAAA2AAAAKQAAACEAAAGQAAAALAAAAEUAAAAlAAABgAAAADcAAAAlAAAAFgAAAEYAAAGKAAAA\n",
              "KQAAAXgAAAA6AAAAPAAAADUAAAAvAAAAGgAAADoAAAAnAAAAMwAAAD8AAAAfAAAAGQAAAXsAAAGg\n",
              "AAAAMQAAABsAAABFAAABigAAACgAAAF5AAAAWQAAACcAAAAjAAABoQAAAZgAAAAsAAAARgAAACcA\n",
              "AAGCAAAAKwAAAD0AAAAkAAAAQgAAADoAAAAlAAAANQAAADYAAAA0AAABggAAAXwAAAA9AAAAJQAA\n",
              "AD0AAAGSAAAAOQAAAYgAAAA0AAABowAAADwAAAAkAAAAHAAAAZwAAAGIAAAARAAAAaEAAAF6AAAB\n",
              "iAAAADoAAAA9AAAAJQAAADkAAAGOAAAANwAAACkAAAGJAAAANAAAAaYAAAGcAAAAQAAAACAAAAAZ\n",
              "AAACCAAAAC0AAAAjAAAAGQAAAEcAAAApAAAAGgAAACEAAAA6AAAAKAAAACIAAAAYAAAAQQAAAaIA\n",
              "AAA5AAAAKgAAABIAAABFAAAAJgAAADkAAAAjAAABiQAAADMAAAA2AAABnQAAAC4AAAF6AAABhwAA\n",
              "AEMAAAGVAAAAMAAAADkAAAAxAAABhwAAAXoAAAAxAAAAOwAAADwAAAA0AAAAMwAAADYAAAAbAAAA\n",
              "OAAAAEAAAAAhAAAAGwAAADoAAAGgAAAAMQAAAZYAAAAtAAABhwAAAD0AAABAAAAAKAAAAX0AAAA4\n",
              "AAAAIAAAAEAAAAAnAAABngAAADsAAAF9AAABmQAAADIAAABBAAAARwAAACsAAAA8AAAAOgAAAEIA\n",
              "AAAnAAABiQAAACsAAAA2AAAAKwAAAZEAAAGmAAAASQAAAYoAAAGLAAAAUwAAACUAAAApAAABoAAA\n",
              "AEIAAAAlAAAARgAAAYYAAAGRAAAANAAAAEAAAABBAAAANAAAAB4AAAGoAAAALgAAAaYAAAAvAAAA\n",
              "QgAAAEAAAAGPAAAAQgAAACIAAABDAAAAKwAAADsAAAAqAAABZQAAABRzdGNvAAAAAAAAAAEAAAAw\n",
              "AAAAYnVkdGEAAABabWV0YQAAAAAAAAAhaGRscgAAAAAAAAAAbWRpcmFwcGwAAAAAAAAAAAAAAAAt\n",
              "aWxzdAAAACWpdG9vAAAAHWRhdGEAAAABAAAAAExhdmY1OC43Ni4xMDA=\n",
              "\">\n",
              "  Your browser does not support the video tag.\n",
              "</video>"
            ]
          },
          "metadata": {},
          "execution_count": 21
        }
      ]
    },
    {
      "cell_type": "code",
      "source": [],
      "metadata": {
        "id": "2Gze8vWTGYnk"
      },
      "execution_count": null,
      "outputs": []
    }
  ]
}